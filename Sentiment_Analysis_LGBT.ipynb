{
  "nbformat": 4,
  "nbformat_minor": 0,
  "metadata": {
    "colab": {
      "name": "Sentiment Analysis LGBT.ipynb",
      "provenance": [],
      "collapsed_sections": [],
      "authorship_tag": "ABX9TyNoovklOXmL6W0FI/lqlgoT",
      "include_colab_link": true
    },
    "kernelspec": {
      "name": "python3",
      "display_name": "Python 3"
    },
    "language_info": {
      "name": "python"
    }
  },
  "cells": [
    {
      "cell_type": "markdown",
      "metadata": {
        "id": "view-in-github",
        "colab_type": "text"
      },
      "source": [
        "<a href=\"https://colab.research.google.com/github/gabriellaaileen/EDA/blob/main/Sentiment_Analysis_LGBT.ipynb\" target=\"_parent\"><img src=\"https://colab.research.google.com/assets/colab-badge.svg\" alt=\"Open In Colab\"/></a>"
      ]
    },
    {
      "cell_type": "markdown",
      "source": [
        "##**Libraries**"
      ],
      "metadata": {
        "id": "bf_lznfBsIyz"
      }
    },
    {
      "cell_type": "code",
      "execution_count": null,
      "metadata": {
        "id": "AjPjCVdtiivD"
      },
      "outputs": [],
      "source": [
        "!pip install textblob\n",
        "!pip install tweepy==4.10.0"
      ]
    },
    {
      "cell_type": "code",
      "source": [
        "!pip install pycountry\n",
        "!pip install langdetect"
      ],
      "metadata": {
        "id": "CPViK8SQi0Qp"
      },
      "execution_count": null,
      "outputs": []
    },
    {
      "cell_type": "code",
      "source": [
        "# Import Libraries\n",
        "from textblob import TextBlob\n",
        "import sys\n",
        "import tweepy\n",
        "import matplotlib.pyplot as plt\n",
        "import pandas as pd\n",
        "import numpy as np\n",
        "import os\n",
        "import nltk\n",
        "import pycountry\n",
        "import re\n",
        "import string\n",
        "from wordcloud import WordCloud, STOPWORDS\n",
        "from PIL import Image\n",
        "from nltk.sentiment.vader import SentimentIntensityAnalyzer\n",
        "from langdetect import detect\n",
        "from nltk.stem import SnowballStemmer\n",
        "from nltk.sentiment.vader import SentimentIntensityAnalyzer\n",
        "from sklearn.feature_extraction.text import CountVectorizer"
      ],
      "metadata": {
        "id": "KAa4ceIfi5Gt"
      },
      "execution_count": null,
      "outputs": []
    },
    {
      "cell_type": "code",
      "source": [
        "nltk.download('vader_lexicon')"
      ],
      "metadata": {
        "id": "yIBs48eqmmVO",
        "colab": {
          "base_uri": "https://localhost:8080/"
        },
        "outputId": "033a2ac8-833c-4617-fcca-bb0a6d8419df"
      },
      "execution_count": 4,
      "outputs": [
        {
          "output_type": "stream",
          "name": "stdout",
          "text": [
            "[nltk_data] Downloading package vader_lexicon to /root/nltk_data...\n"
          ]
        },
        {
          "output_type": "execute_result",
          "data": {
            "text/plain": [
              "True"
            ]
          },
          "metadata": {},
          "execution_count": 4
        }
      ]
    },
    {
      "cell_type": "code",
      "source": [
        "import warnings; warnings.simplefilter('ignore')\n",
        "import nltk\n",
        "\n",
        "try:\n",
        "    import google.colab\n",
        "    IN_COLAB = True\n",
        "    !wget https://raw.githubusercontent.com/taudata-indonesia/eLearning/master/taudataDDGsna.py\n",
        "    !mkdir data\n",
        "    !wget -P data/ https://raw.githubusercontent.com/taudata-indonesia/eLearning/master/data/contoh.pdf\n",
        "    !wget -P data/ https://raw.githubusercontent.com/taudata-indonesia/eLearning/master/data/slang.txt\n",
        "    !wget -P data/ https://raw.githubusercontent.com/taudata-indonesia/eLearning/master/data/stopwords_id.txt\n",
        "    !wget -P data/ https://raw.githubusercontent.com/taudata-indonesia/eLearning/master/data/stopwords_en.txt\n",
        "    !wget -P data/ https://raw.githubusercontent.com/taudata-indonesia/eLearning/master/data/kata_dasar.txt\n",
        "    !wget -P data/ https://raw.githubusercontent.com/taudata-indonesia/eLearning/master/data/wn-ind-def.tab\n",
        "    !wget -P data/ https://raw.githubusercontent.com/taudata-indonesia/eLearning/master/data/wn-msa-all.tab\n",
        "    !wget -P data/ https://raw.githubusercontent.com/taudata-indonesia/eLearning/master/data/ind_SA.csv\n",
        "    !wget -P data/ https://raw.githubusercontent.com/taudata-indonesia/eLearning/master/data/all_indo_man_tag_corpus_model.crf.tagger\n",
        "    !wget -P data/ https://raw.githubusercontent.com/gabriellaaileen/EDA/main/kamus_slang.csv\n",
        "    !wget -P data/ https://raw.githubusercontent.com/gabriellaaileen/EDA/main/kata_positif.txt\n",
        "    !wget -P data/ https://raw.githubusercontent.com/gabriellaaileen/EDA/main/kata_negatif.txt\n",
        "\n",
        "    !pip install --upgrade spacy python-crfsuite unidecode textblob sastrawi sklearn-pycrfsuite\n",
        "    !pip install --upgrade unidecode twython tweepy beautifulsoup4 tika\n",
        "    !python -m spacy download en\n",
        "    !python -m spacy download xx\n",
        "    !python -m spacy download en_core_web_sm\n",
        "    nltk.download('popular')\n",
        "except:\n",
        "    IN_COLAB = False\n",
        "    print(\"Running the code locally, please make sure all the python module versions agree with colab environment and all data/assets downloaded\")"
      ],
      "metadata": {
        "id": "jfGkHYojkYwd"
      },
      "execution_count": null,
      "outputs": []
    },
    {
      "cell_type": "code",
      "source": [
        "import taudataDDGsna as tau\n",
        "import tweepy, json, urllib.request, requests\n",
        "from urllib.request import Request, urlopen\n",
        "from twython import TwythonStreamer\n",
        "from bs4 import BeautifulSoup as bs\n",
        "from tqdm import tqdm\n",
        "\"Done\""
      ],
      "metadata": {
        "colab": {
          "base_uri": "https://localhost:8080/",
          "height": 35
        },
        "id": "heBub3_rkUYq",
        "outputId": "c351d2b6-c6ad-4e29-f2c9-f8b79bcbe4b5"
      },
      "execution_count": 6,
      "outputs": [
        {
          "output_type": "execute_result",
          "data": {
            "text/plain": [
              "'Done'"
            ],
            "application/vnd.google.colaboratory.intrinsic+json": {
              "type": "string"
            }
          },
          "metadata": {},
          "execution_count": 6
        }
      ]
    },
    {
      "cell_type": "code",
      "source": [
        "!pip install googletrans==3.1.0a0\n"
      ],
      "metadata": {
        "id": "AhrHTL16xgRK"
      },
      "execution_count": null,
      "outputs": []
    },
    {
      "cell_type": "code",
      "source": [
        "from googletrans import Translator\n",
        "translator = Translator()"
      ],
      "metadata": {
        "id": "BiGoiZZHxmCL"
      },
      "execution_count": 8,
      "outputs": []
    },
    {
      "cell_type": "markdown",
      "source": [
        "##**Crawling & Saving Data**"
      ],
      "metadata": {
        "id": "837v9RCMsMeI"
      }
    },
    {
      "cell_type": "code",
      "source": [
        "consumerKey = #Input\n",
        "consumerSecret = #Input\n",
        "accessToken = #Input\n",
        "accessTokenSecret = #Input\n",
        "auth = tweepy.OAuthHandler(consumerKey, consumerSecret)\n",
        "auth.set_access_token(accessToken, accessTokenSecret)\n",
        "api = tweepy.API(auth, wait_on_rate_limit=True, timeout=180, retry_count=5, retry_delay=3)\n",
        "usr_ = api.verify_credentials()"
      ],
      "metadata": {
        "id": "1MJ7Ea3QiulX"
      },
      "execution_count": 33,
      "outputs": []
    },
    {
      "cell_type": "code",
      "source": [
        "qry = '\"LGBT\" OR \"LGBTQ\" OR \"LGBTQ+\" OR \"pride month\" OR \"lesbian\" OR \"lesbi\" OR \"transgender\" OR \"homo\" OR \"gay\" OR \"homoseksual\" OR \"biseks\" OR \"biseksual\" OR \"bisex\" since:2022-03-01'\n",
        "N = 5000 # jumlah N tweet \"terkini\" yang ingin diambil\n",
        "T = []\n",
        "for post in tqdm(tweepy.Cursor(api.search_tweets, q=qry, lang='id', tweet_mode='extended').items(N)):\n",
        "    T.append(post)\n",
        "    \n",
        "\"Done\""
      ],
      "metadata": {
        "id": "HtW5nooErQtU",
        "colab": {
          "base_uri": "https://localhost:8080/",
          "height": 52
        },
        "outputId": "53b42229-fcd0-4e09-b04f-5d124c97c82f"
      },
      "execution_count": 72,
      "outputs": [
        {
          "output_type": "stream",
          "name": "stderr",
          "text": [
            "1711it [00:40, 41.98it/s]\n"
          ]
        },
        {
          "output_type": "execute_result",
          "data": {
            "text/plain": [
              "'Done'"
            ],
            "application/vnd.google.colaboratory.intrinsic+json": {
              "type": "string"
            }
          },
          "metadata": {},
          "execution_count": 72
        }
      ]
    },
    {
      "cell_type": "code",
      "source": [
        "# T bukan sekedar list of tweets \n",
        "tweet = [t._json for t in T]\n",
        "print(' Berhasil mendapatkan {} tweets'.format(len(tweet)))"
      ],
      "metadata": {
        "id": "lK3akGJzsh8q",
        "colab": {
          "base_uri": "https://localhost:8080/"
        },
        "outputId": "bccb8f13-fb11-4c05-d6dc-ce0a101cc45a"
      },
      "execution_count": 73,
      "outputs": [
        {
          "output_type": "stream",
          "name": "stdout",
          "text": [
            " Berhasil mendapatkan 1711 tweets\n"
          ]
        }
      ]
    },
    {
      "cell_type": "code",
      "execution_count": 74,
      "metadata": {
        "id": "f629c232",
        "colab": {
          "base_uri": "https://localhost:8080/"
        },
        "outputId": "7ca85845-a353-4ade-a19a-d8d8ac002ac3"
      },
      "outputs": [
        {
          "output_type": "execute_result",
          "data": {
            "text/plain": [
              "('Thu Jun 09 04:48:54 +0000 2022', '@convomf Knpa LGBT🗿')"
            ]
          },
          "metadata": {},
          "execution_count": 74
        }
      ],
      "source": [
        "# Datanya berbentuk JSON\n",
        "tweet[0]['created_at'], tweet[0]['full_text']"
      ]
    },
    {
      "cell_type": "code",
      "execution_count": 75,
      "metadata": {
        "id": "3a12b41e",
        "colab": {
          "base_uri": "https://localhost:8080/"
        },
        "outputId": "9821a983-909f-483b-c179-2eb6bf74c7d3"
      },
      "outputs": [
        {
          "output_type": "stream",
          "name": "stdout",
          "text": [
            "tweet pertama oleh \"putcatdoang\" : \"@convomf Knpa LGBT🗿\"\n"
          ]
        }
      ],
      "source": [
        "# Contoh mengakses data spesifik pada tweet yang pertama:\n",
        "print('tweet pertama oleh \"{}\" : \"{}\"'.format(tweet[0]['user']['screen_name'],tweet[0]['full_text']))"
      ]
    },
    {
      "cell_type": "code",
      "source": [
        "# Contoh mengambil hanya data tweet\n",
        "D = [t['full_text'] for t in tweet]\n",
        "D[:10] # 5 tweet pertama"
      ],
      "metadata": {
        "id": "f-fK6uCzd-AE",
        "colab": {
          "base_uri": "https://localhost:8080/"
        },
        "outputId": "58a54837-a965-4f4a-f2f0-2f411ad6046b"
      },
      "execution_count": 76,
      "outputs": [
        {
          "output_type": "execute_result",
          "data": {
            "text/plain": [
              "['@convomf Knpa LGBT🗿',\n",
              " '@maheenm26727540 Koi gsl nahi dobra repair kar lain gay',\n",
              " 'Beredar video empat orang laki-laki sedang berpangkuan dengan pasangannya masing-masing.\\xa0\\n\\nhttps://t.co/5naB2G18Iy\\n\\n#republika #lgbt #pancoran #jakarta https://t.co/Im0KTFMuYv',\n",
              " '\"mbak minta tolong pegang perut saya ya biar debay nya cantik kayak embaknya\" amiinn tapi masalahnya saya suka nonton homo ibuu semoga gak nurun yaa😭😭😭😭',\n",
              " 'Lah kan lagu tuh masuknya seni, gue bukan pro LGBT tapi menyukai seni bukan LGBT nya https://t.co/uRzzGoePjk',\n",
              " 'lgbt https://t.co/Y2K3nHUu7U',\n",
              " 'RT @Meilansyahriza: Sudah menjadi Rahasia umum.... Siapa yang ada di belakang LGBT.... Sama mereka yang ada di belakang VAKSINISASI... Dan…',\n",
              " 'Ego is wlw',\n",
              " '\"Homo-Lehrsaal\"',\n",
              " 'Lagi dengerin lagu LGBT katanya hehe']"
            ]
          },
          "metadata": {},
          "execution_count": 76
        }
      ]
    },
    {
      "cell_type": "code",
      "source": [
        "import json \n",
        "def saveTweets(tweets, file='Tweets.json'): #in Json Format\n",
        "    with open(file, 'w') as f:\n",
        "        for t in tweets:\n",
        "            try:\n",
        "                f.write(json.dumps(t)+'\\n')\n",
        "            except:\n",
        "                pass"
      ],
      "metadata": {
        "id": "hAhlQohb0Hmu"
      },
      "execution_count": 77,
      "outputs": []
    },
    {
      "cell_type": "code",
      "source": [
        "# Menyimpan hasil crawling twitter\n",
        "fileName = 'Tweets.json'\n",
        "saveTweets(tweet, file=fileName)\n",
        "print('Saved to '+fileName)"
      ],
      "metadata": {
        "id": "g-1Yz7N00Neg",
        "colab": {
          "base_uri": "https://localhost:8080/"
        },
        "outputId": "5f22f436-a69a-4dc3-dff0-80efd0735231"
      },
      "execution_count": 78,
      "outputs": [
        {
          "output_type": "stream",
          "name": "stdout",
          "text": [
            "Saved to Tweets.json\n"
          ]
        }
      ]
    },
    {
      "cell_type": "code",
      "source": [
        "import pandas as pd\n",
        "df = pd.read_json('/content/Tweets.json', lines=True)\n",
        "df.to_csv ('/content/Tweets.csv', index = None)"
      ],
      "metadata": {
        "id": "nzL99-Bw3izJ"
      },
      "execution_count": 79,
      "outputs": []
    },
    {
      "cell_type": "code",
      "source": [
        "df.head(2)"
      ],
      "metadata": {
        "id": "Fjkczvxu6n1v",
        "colab": {
          "base_uri": "https://localhost:8080/",
          "height": 275
        },
        "outputId": "1c1efbbb-24e0-46ae-fe04-92c71bfdc3d2"
      },
      "execution_count": 80,
      "outputs": [
        {
          "output_type": "execute_result",
          "data": {
            "text/plain": [
              "                 created_at                   id               id_str  \\\n",
              "0 2022-06-09 04:48:54+00:00  1534759419417751552  1534759419417751552   \n",
              "1 2022-06-09 04:48:33+00:00  1534759330196627456  1534759330196627456   \n",
              "\n",
              "                                           full_text  truncated  \\\n",
              "0                                @convomf Knpa LGBT🗿      False   \n",
              "1  @maheenm26727540 Koi gsl nahi dobra repair kar...      False   \n",
              "\n",
              "  display_text_range                                           entities  \\\n",
              "0            [9, 19]  {'hashtags': [], 'symbols': [], 'user_mentions...   \n",
              "1           [17, 55]  {'hashtags': [], 'symbols': [], 'user_mentions...   \n",
              "\n",
              "                                            metadata  \\\n",
              "0  {'iso_language_code': 'in', 'result_type': 're...   \n",
              "1  {'iso_language_code': 'in', 'result_type': 're...   \n",
              "\n",
              "                                              source  in_reply_to_status_id  \\\n",
              "0  <a href=\"http://twitter.com/download/android\" ...           1.534669e+18   \n",
              "1  <a href=\"http://twitter.com/download/android\" ...           1.534584e+18   \n",
              "\n",
              "   ...  favorite_count  favorited  retweeted lang extended_entities  \\\n",
              "0  ...               0      False      False   in               NaN   \n",
              "1  ...               0      False      False   in               NaN   \n",
              "\n",
              "   possibly_sensitive  quoted_status_id quoted_status_id_str  quoted_status  \\\n",
              "0                 NaN               NaN                  NaN            NaN   \n",
              "1                 NaN               NaN                  NaN            NaN   \n",
              "\n",
              "   retweeted_status  \n",
              "0               NaN  \n",
              "1               NaN  \n",
              "\n",
              "[2 rows x 31 columns]"
            ],
            "text/html": [
              "\n",
              "  <div id=\"df-e65b3fb2-7d0a-4f4d-bae7-b129e7723d5f\">\n",
              "    <div class=\"colab-df-container\">\n",
              "      <div>\n",
              "<style scoped>\n",
              "    .dataframe tbody tr th:only-of-type {\n",
              "        vertical-align: middle;\n",
              "    }\n",
              "\n",
              "    .dataframe tbody tr th {\n",
              "        vertical-align: top;\n",
              "    }\n",
              "\n",
              "    .dataframe thead th {\n",
              "        text-align: right;\n",
              "    }\n",
              "</style>\n",
              "<table border=\"1\" class=\"dataframe\">\n",
              "  <thead>\n",
              "    <tr style=\"text-align: right;\">\n",
              "      <th></th>\n",
              "      <th>created_at</th>\n",
              "      <th>id</th>\n",
              "      <th>id_str</th>\n",
              "      <th>full_text</th>\n",
              "      <th>truncated</th>\n",
              "      <th>display_text_range</th>\n",
              "      <th>entities</th>\n",
              "      <th>metadata</th>\n",
              "      <th>source</th>\n",
              "      <th>in_reply_to_status_id</th>\n",
              "      <th>...</th>\n",
              "      <th>favorite_count</th>\n",
              "      <th>favorited</th>\n",
              "      <th>retweeted</th>\n",
              "      <th>lang</th>\n",
              "      <th>extended_entities</th>\n",
              "      <th>possibly_sensitive</th>\n",
              "      <th>quoted_status_id</th>\n",
              "      <th>quoted_status_id_str</th>\n",
              "      <th>quoted_status</th>\n",
              "      <th>retweeted_status</th>\n",
              "    </tr>\n",
              "  </thead>\n",
              "  <tbody>\n",
              "    <tr>\n",
              "      <th>0</th>\n",
              "      <td>2022-06-09 04:48:54+00:00</td>\n",
              "      <td>1534759419417751552</td>\n",
              "      <td>1534759419417751552</td>\n",
              "      <td>@convomf Knpa LGBT🗿</td>\n",
              "      <td>False</td>\n",
              "      <td>[9, 19]</td>\n",
              "      <td>{'hashtags': [], 'symbols': [], 'user_mentions...</td>\n",
              "      <td>{'iso_language_code': 'in', 'result_type': 're...</td>\n",
              "      <td>&lt;a href=\"http://twitter.com/download/android\" ...</td>\n",
              "      <td>1.534669e+18</td>\n",
              "      <td>...</td>\n",
              "      <td>0</td>\n",
              "      <td>False</td>\n",
              "      <td>False</td>\n",
              "      <td>in</td>\n",
              "      <td>NaN</td>\n",
              "      <td>NaN</td>\n",
              "      <td>NaN</td>\n",
              "      <td>NaN</td>\n",
              "      <td>NaN</td>\n",
              "      <td>NaN</td>\n",
              "    </tr>\n",
              "    <tr>\n",
              "      <th>1</th>\n",
              "      <td>2022-06-09 04:48:33+00:00</td>\n",
              "      <td>1534759330196627456</td>\n",
              "      <td>1534759330196627456</td>\n",
              "      <td>@maheenm26727540 Koi gsl nahi dobra repair kar...</td>\n",
              "      <td>False</td>\n",
              "      <td>[17, 55]</td>\n",
              "      <td>{'hashtags': [], 'symbols': [], 'user_mentions...</td>\n",
              "      <td>{'iso_language_code': 'in', 'result_type': 're...</td>\n",
              "      <td>&lt;a href=\"http://twitter.com/download/android\" ...</td>\n",
              "      <td>1.534584e+18</td>\n",
              "      <td>...</td>\n",
              "      <td>0</td>\n",
              "      <td>False</td>\n",
              "      <td>False</td>\n",
              "      <td>in</td>\n",
              "      <td>NaN</td>\n",
              "      <td>NaN</td>\n",
              "      <td>NaN</td>\n",
              "      <td>NaN</td>\n",
              "      <td>NaN</td>\n",
              "      <td>NaN</td>\n",
              "    </tr>\n",
              "  </tbody>\n",
              "</table>\n",
              "<p>2 rows × 31 columns</p>\n",
              "</div>\n",
              "      <button class=\"colab-df-convert\" onclick=\"convertToInteractive('df-e65b3fb2-7d0a-4f4d-bae7-b129e7723d5f')\"\n",
              "              title=\"Convert this dataframe to an interactive table.\"\n",
              "              style=\"display:none;\">\n",
              "        \n",
              "  <svg xmlns=\"http://www.w3.org/2000/svg\" height=\"24px\"viewBox=\"0 0 24 24\"\n",
              "       width=\"24px\">\n",
              "    <path d=\"M0 0h24v24H0V0z\" fill=\"none\"/>\n",
              "    <path d=\"M18.56 5.44l.94 2.06.94-2.06 2.06-.94-2.06-.94-.94-2.06-.94 2.06-2.06.94zm-11 1L8.5 8.5l.94-2.06 2.06-.94-2.06-.94L8.5 2.5l-.94 2.06-2.06.94zm10 10l.94 2.06.94-2.06 2.06-.94-2.06-.94-.94-2.06-.94 2.06-2.06.94z\"/><path d=\"M17.41 7.96l-1.37-1.37c-.4-.4-.92-.59-1.43-.59-.52 0-1.04.2-1.43.59L10.3 9.45l-7.72 7.72c-.78.78-.78 2.05 0 2.83L4 21.41c.39.39.9.59 1.41.59.51 0 1.02-.2 1.41-.59l7.78-7.78 2.81-2.81c.8-.78.8-2.07 0-2.86zM5.41 20L4 18.59l7.72-7.72 1.47 1.35L5.41 20z\"/>\n",
              "  </svg>\n",
              "      </button>\n",
              "      \n",
              "  <style>\n",
              "    .colab-df-container {\n",
              "      display:flex;\n",
              "      flex-wrap:wrap;\n",
              "      gap: 12px;\n",
              "    }\n",
              "\n",
              "    .colab-df-convert {\n",
              "      background-color: #E8F0FE;\n",
              "      border: none;\n",
              "      border-radius: 50%;\n",
              "      cursor: pointer;\n",
              "      display: none;\n",
              "      fill: #1967D2;\n",
              "      height: 32px;\n",
              "      padding: 0 0 0 0;\n",
              "      width: 32px;\n",
              "    }\n",
              "\n",
              "    .colab-df-convert:hover {\n",
              "      background-color: #E2EBFA;\n",
              "      box-shadow: 0px 1px 2px rgba(60, 64, 67, 0.3), 0px 1px 3px 1px rgba(60, 64, 67, 0.15);\n",
              "      fill: #174EA6;\n",
              "    }\n",
              "\n",
              "    [theme=dark] .colab-df-convert {\n",
              "      background-color: #3B4455;\n",
              "      fill: #D2E3FC;\n",
              "    }\n",
              "\n",
              "    [theme=dark] .colab-df-convert:hover {\n",
              "      background-color: #434B5C;\n",
              "      box-shadow: 0px 1px 3px 1px rgba(0, 0, 0, 0.15);\n",
              "      filter: drop-shadow(0px 1px 2px rgba(0, 0, 0, 0.3));\n",
              "      fill: #FFFFFF;\n",
              "    }\n",
              "  </style>\n",
              "\n",
              "      <script>\n",
              "        const buttonEl =\n",
              "          document.querySelector('#df-e65b3fb2-7d0a-4f4d-bae7-b129e7723d5f button.colab-df-convert');\n",
              "        buttonEl.style.display =\n",
              "          google.colab.kernel.accessAllowed ? 'block' : 'none';\n",
              "\n",
              "        async function convertToInteractive(key) {\n",
              "          const element = document.querySelector('#df-e65b3fb2-7d0a-4f4d-bae7-b129e7723d5f');\n",
              "          const dataTable =\n",
              "            await google.colab.kernel.invokeFunction('convertToInteractive',\n",
              "                                                     [key], {});\n",
              "          if (!dataTable) return;\n",
              "\n",
              "          const docLinkHtml = 'Like what you see? Visit the ' +\n",
              "            '<a target=\"_blank\" href=https://colab.research.google.com/notebooks/data_table.ipynb>data table notebook</a>'\n",
              "            + ' to learn more about interactive tables.';\n",
              "          element.innerHTML = '';\n",
              "          dataTable['output_type'] = 'display_data';\n",
              "          await google.colab.output.renderOutput(dataTable, element);\n",
              "          const docLink = document.createElement('div');\n",
              "          docLink.innerHTML = docLinkHtml;\n",
              "          element.appendChild(docLink);\n",
              "        }\n",
              "      </script>\n",
              "    </div>\n",
              "  </div>\n",
              "  "
            ]
          },
          "metadata": {},
          "execution_count": 80
        }
      ]
    },
    {
      "cell_type": "markdown",
      "source": [
        "##**Cleaning Data**"
      ],
      "metadata": {
        "id": "5biti-Rs7Rc8"
      }
    },
    {
      "cell_type": "code",
      "source": [
        "#We use only the full_text data\n",
        "tweet_list=pd.DataFrame(df['full_text'])\n",
        "tweet_list.head()"
      ],
      "metadata": {
        "colab": {
          "base_uri": "https://localhost:8080/",
          "height": 206
        },
        "id": "kDxRJ9JG2AaI",
        "outputId": "55649c00-a33e-4c39-e3d0-c1e9b9558fe7"
      },
      "execution_count": 81,
      "outputs": [
        {
          "output_type": "execute_result",
          "data": {
            "text/plain": [
              "                                           full_text\n",
              "0                                @convomf Knpa LGBT🗿\n",
              "1  @maheenm26727540 Koi gsl nahi dobra repair kar...\n",
              "2  Beredar video empat orang laki-laki sedang ber...\n",
              "3  \"mbak minta tolong pegang perut saya ya biar d...\n",
              "4  Lah kan lagu tuh masuknya seni, gue bukan pro ..."
            ],
            "text/html": [
              "\n",
              "  <div id=\"df-2ba3a1ac-d661-4454-b236-a263eeb03219\">\n",
              "    <div class=\"colab-df-container\">\n",
              "      <div>\n",
              "<style scoped>\n",
              "    .dataframe tbody tr th:only-of-type {\n",
              "        vertical-align: middle;\n",
              "    }\n",
              "\n",
              "    .dataframe tbody tr th {\n",
              "        vertical-align: top;\n",
              "    }\n",
              "\n",
              "    .dataframe thead th {\n",
              "        text-align: right;\n",
              "    }\n",
              "</style>\n",
              "<table border=\"1\" class=\"dataframe\">\n",
              "  <thead>\n",
              "    <tr style=\"text-align: right;\">\n",
              "      <th></th>\n",
              "      <th>full_text</th>\n",
              "    </tr>\n",
              "  </thead>\n",
              "  <tbody>\n",
              "    <tr>\n",
              "      <th>0</th>\n",
              "      <td>@convomf Knpa LGBT🗿</td>\n",
              "    </tr>\n",
              "    <tr>\n",
              "      <th>1</th>\n",
              "      <td>@maheenm26727540 Koi gsl nahi dobra repair kar...</td>\n",
              "    </tr>\n",
              "    <tr>\n",
              "      <th>2</th>\n",
              "      <td>Beredar video empat orang laki-laki sedang ber...</td>\n",
              "    </tr>\n",
              "    <tr>\n",
              "      <th>3</th>\n",
              "      <td>\"mbak minta tolong pegang perut saya ya biar d...</td>\n",
              "    </tr>\n",
              "    <tr>\n",
              "      <th>4</th>\n",
              "      <td>Lah kan lagu tuh masuknya seni, gue bukan pro ...</td>\n",
              "    </tr>\n",
              "  </tbody>\n",
              "</table>\n",
              "</div>\n",
              "      <button class=\"colab-df-convert\" onclick=\"convertToInteractive('df-2ba3a1ac-d661-4454-b236-a263eeb03219')\"\n",
              "              title=\"Convert this dataframe to an interactive table.\"\n",
              "              style=\"display:none;\">\n",
              "        \n",
              "  <svg xmlns=\"http://www.w3.org/2000/svg\" height=\"24px\"viewBox=\"0 0 24 24\"\n",
              "       width=\"24px\">\n",
              "    <path d=\"M0 0h24v24H0V0z\" fill=\"none\"/>\n",
              "    <path d=\"M18.56 5.44l.94 2.06.94-2.06 2.06-.94-2.06-.94-.94-2.06-.94 2.06-2.06.94zm-11 1L8.5 8.5l.94-2.06 2.06-.94-2.06-.94L8.5 2.5l-.94 2.06-2.06.94zm10 10l.94 2.06.94-2.06 2.06-.94-2.06-.94-.94-2.06-.94 2.06-2.06.94z\"/><path d=\"M17.41 7.96l-1.37-1.37c-.4-.4-.92-.59-1.43-.59-.52 0-1.04.2-1.43.59L10.3 9.45l-7.72 7.72c-.78.78-.78 2.05 0 2.83L4 21.41c.39.39.9.59 1.41.59.51 0 1.02-.2 1.41-.59l7.78-7.78 2.81-2.81c.8-.78.8-2.07 0-2.86zM5.41 20L4 18.59l7.72-7.72 1.47 1.35L5.41 20z\"/>\n",
              "  </svg>\n",
              "      </button>\n",
              "      \n",
              "  <style>\n",
              "    .colab-df-container {\n",
              "      display:flex;\n",
              "      flex-wrap:wrap;\n",
              "      gap: 12px;\n",
              "    }\n",
              "\n",
              "    .colab-df-convert {\n",
              "      background-color: #E8F0FE;\n",
              "      border: none;\n",
              "      border-radius: 50%;\n",
              "      cursor: pointer;\n",
              "      display: none;\n",
              "      fill: #1967D2;\n",
              "      height: 32px;\n",
              "      padding: 0 0 0 0;\n",
              "      width: 32px;\n",
              "    }\n",
              "\n",
              "    .colab-df-convert:hover {\n",
              "      background-color: #E2EBFA;\n",
              "      box-shadow: 0px 1px 2px rgba(60, 64, 67, 0.3), 0px 1px 3px 1px rgba(60, 64, 67, 0.15);\n",
              "      fill: #174EA6;\n",
              "    }\n",
              "\n",
              "    [theme=dark] .colab-df-convert {\n",
              "      background-color: #3B4455;\n",
              "      fill: #D2E3FC;\n",
              "    }\n",
              "\n",
              "    [theme=dark] .colab-df-convert:hover {\n",
              "      background-color: #434B5C;\n",
              "      box-shadow: 0px 1px 3px 1px rgba(0, 0, 0, 0.15);\n",
              "      filter: drop-shadow(0px 1px 2px rgba(0, 0, 0, 0.3));\n",
              "      fill: #FFFFFF;\n",
              "    }\n",
              "  </style>\n",
              "\n",
              "      <script>\n",
              "        const buttonEl =\n",
              "          document.querySelector('#df-2ba3a1ac-d661-4454-b236-a263eeb03219 button.colab-df-convert');\n",
              "        buttonEl.style.display =\n",
              "          google.colab.kernel.accessAllowed ? 'block' : 'none';\n",
              "\n",
              "        async function convertToInteractive(key) {\n",
              "          const element = document.querySelector('#df-2ba3a1ac-d661-4454-b236-a263eeb03219');\n",
              "          const dataTable =\n",
              "            await google.colab.kernel.invokeFunction('convertToInteractive',\n",
              "                                                     [key], {});\n",
              "          if (!dataTable) return;\n",
              "\n",
              "          const docLinkHtml = 'Like what you see? Visit the ' +\n",
              "            '<a target=\"_blank\" href=https://colab.research.google.com/notebooks/data_table.ipynb>data table notebook</a>'\n",
              "            + ' to learn more about interactive tables.';\n",
              "          element.innerHTML = '';\n",
              "          dataTable['output_type'] = 'display_data';\n",
              "          await google.colab.output.renderOutput(dataTable, element);\n",
              "          const docLink = document.createElement('div');\n",
              "          docLink.innerHTML = docLinkHtml;\n",
              "          element.appendChild(docLink);\n",
              "        }\n",
              "      </script>\n",
              "    </div>\n",
              "  </div>\n",
              "  "
            ]
          },
          "metadata": {},
          "execution_count": 81
        }
      ]
    },
    {
      "cell_type": "code",
      "source": [
        "#drop duplicate tweets\n",
        "#tweet_list.drop_duplicates(inplace = True)"
      ],
      "metadata": {
        "id": "ANv_qyJgzhQs"
      },
      "execution_count": 82,
      "outputs": []
    },
    {
      "cell_type": "code",
      "source": [
        "#This function will take in a few patterns to look for, such as links, @usernames, hashtags, numbers etc. \n",
        "#and replace these patterns with an empty string.\n",
        "\n",
        "def clean_text(text):  \n",
        "    pat1 = r'@[^ ]+'                   \n",
        "    pat2 = r'https?://[A-Za-z0-9./]+'  \n",
        "    pat3 = r'\\'s'                      \n",
        "    pat4 = r'\\#\\w+'                     \n",
        "    pat5 = r'&amp '                     \n",
        "    pat6 = r'[^A-Za-z\\s]'               \n",
        "    combined_pat = r'|'.join((pat1, pat2,pat3,pat4,pat5, pat6))\n",
        "    text = re.sub(combined_pat,\"\",text).lower()\n",
        "    return text.strip()"
      ],
      "metadata": {
        "id": "5uFOpmfp9v1B"
      },
      "execution_count": 83,
      "outputs": []
    },
    {
      "cell_type": "code",
      "source": [
        "tweet_list[\"cleaned_tweet\"] = tweet_list[\"full_text\"].apply(clean_text)"
      ],
      "metadata": {
        "id": "_HPqcTZ-90h7"
      },
      "execution_count": 84,
      "outputs": []
    },
    {
      "cell_type": "code",
      "source": [
        "#However we may have some empty tweets as we removed quite a lot of content, so lets drop these.\n",
        "tweet_list = tweet_list [ ~(tweet_list[\"cleaned_tweet\"] ==\"\")]"
      ],
      "metadata": {
        "id": "LzgaST52RIQ-"
      },
      "execution_count": 85,
      "outputs": []
    },
    {
      "cell_type": "code",
      "source": [
        "#Replace slang using dictionary from kamus_slang.csv\n",
        "d = dict()\n",
        "f = open(\"data/kamus_slang.csv\")\n",
        "for line in f:\n",
        "    line = line.strip('\\n')\n",
        "    (key, val) = line.split(\",\")\n",
        "    d[key] = val\n",
        "\n",
        "# Replace slang using dictionary from slang.txt \n",
        "df=open('data/slang.txt',\"r\",encoding=\"utf-8\", errors='replace')\n",
        "slangS = df.readlines(); df.close()\n",
        "# pisahkan berdasarkan ':'\n",
        "slangS = [t.split(\":\") for t in slangS]\n",
        "slangS = [[k.strip(), v.strip()] for k,v in slangS]\n",
        "slangS = {k:v for k,v in slangS}"
      ],
      "metadata": {
        "id": "hYCmCKWxa32G"
      },
      "execution_count": 86,
      "outputs": []
    },
    {
      "cell_type": "code",
      "source": [
        "for j in range (len(tweet_list)):\n",
        "    tweet = tweet_list.iloc[j]['cleaned_tweet']\n",
        "    tweet = TextBlob(tweet).words\n",
        "    for i,t in enumerate(tweet):\n",
        "      if t in d.keys():\n",
        "        tweet[i] = d[t]\n",
        "      elif t in slangS.keys():\n",
        "        tweet[i] = slangS[t]\n",
        "    tweet_list.iloc[j]['cleaned_tweet']=' '.join(tweet)"
      ],
      "metadata": {
        "id": "vjiHVbI6cd1h"
      },
      "execution_count": 87,
      "outputs": []
    },
    {
      "cell_type": "code",
      "source": [
        "tweet_list.head()"
      ],
      "metadata": {
        "colab": {
          "base_uri": "https://localhost:8080/",
          "height": 206
        },
        "id": "fyV2m04F-Bmj",
        "outputId": "cf99aa9c-da7c-40df-82e2-a4e7c146763b"
      },
      "execution_count": 88,
      "outputs": [
        {
          "output_type": "execute_result",
          "data": {
            "text/plain": [
              "                                           full_text  \\\n",
              "0                                @convomf Knpa LGBT🗿   \n",
              "1  @maheenm26727540 Koi gsl nahi dobra repair kar...   \n",
              "2  Beredar video empat orang laki-laki sedang ber...   \n",
              "3  \"mbak minta tolong pegang perut saya ya biar d...   \n",
              "4  Lah kan lagu tuh masuknya seni, gue bukan pro ...   \n",
              "\n",
              "                                       cleaned_tweet  \n",
              "0                                        kenapa lgbt  \n",
              "1             koi gsl nahi dobra repair kar lain gay  \n",
              "2  beredar video empat orang lakilaki sedang berp...  \n",
              "3  mbak minta tolong pegang perut saya iya biar d...  \n",
              "4  lah akan lagu itu masuknya seni saya bukan pro...  "
            ],
            "text/html": [
              "\n",
              "  <div id=\"df-dc44dc44-286d-47f0-ab63-3929ff8250bf\">\n",
              "    <div class=\"colab-df-container\">\n",
              "      <div>\n",
              "<style scoped>\n",
              "    .dataframe tbody tr th:only-of-type {\n",
              "        vertical-align: middle;\n",
              "    }\n",
              "\n",
              "    .dataframe tbody tr th {\n",
              "        vertical-align: top;\n",
              "    }\n",
              "\n",
              "    .dataframe thead th {\n",
              "        text-align: right;\n",
              "    }\n",
              "</style>\n",
              "<table border=\"1\" class=\"dataframe\">\n",
              "  <thead>\n",
              "    <tr style=\"text-align: right;\">\n",
              "      <th></th>\n",
              "      <th>full_text</th>\n",
              "      <th>cleaned_tweet</th>\n",
              "    </tr>\n",
              "  </thead>\n",
              "  <tbody>\n",
              "    <tr>\n",
              "      <th>0</th>\n",
              "      <td>@convomf Knpa LGBT🗿</td>\n",
              "      <td>kenapa lgbt</td>\n",
              "    </tr>\n",
              "    <tr>\n",
              "      <th>1</th>\n",
              "      <td>@maheenm26727540 Koi gsl nahi dobra repair kar...</td>\n",
              "      <td>koi gsl nahi dobra repair kar lain gay</td>\n",
              "    </tr>\n",
              "    <tr>\n",
              "      <th>2</th>\n",
              "      <td>Beredar video empat orang laki-laki sedang ber...</td>\n",
              "      <td>beredar video empat orang lakilaki sedang berp...</td>\n",
              "    </tr>\n",
              "    <tr>\n",
              "      <th>3</th>\n",
              "      <td>\"mbak minta tolong pegang perut saya ya biar d...</td>\n",
              "      <td>mbak minta tolong pegang perut saya iya biar d...</td>\n",
              "    </tr>\n",
              "    <tr>\n",
              "      <th>4</th>\n",
              "      <td>Lah kan lagu tuh masuknya seni, gue bukan pro ...</td>\n",
              "      <td>lah akan lagu itu masuknya seni saya bukan pro...</td>\n",
              "    </tr>\n",
              "  </tbody>\n",
              "</table>\n",
              "</div>\n",
              "      <button class=\"colab-df-convert\" onclick=\"convertToInteractive('df-dc44dc44-286d-47f0-ab63-3929ff8250bf')\"\n",
              "              title=\"Convert this dataframe to an interactive table.\"\n",
              "              style=\"display:none;\">\n",
              "        \n",
              "  <svg xmlns=\"http://www.w3.org/2000/svg\" height=\"24px\"viewBox=\"0 0 24 24\"\n",
              "       width=\"24px\">\n",
              "    <path d=\"M0 0h24v24H0V0z\" fill=\"none\"/>\n",
              "    <path d=\"M18.56 5.44l.94 2.06.94-2.06 2.06-.94-2.06-.94-.94-2.06-.94 2.06-2.06.94zm-11 1L8.5 8.5l.94-2.06 2.06-.94-2.06-.94L8.5 2.5l-.94 2.06-2.06.94zm10 10l.94 2.06.94-2.06 2.06-.94-2.06-.94-.94-2.06-.94 2.06-2.06.94z\"/><path d=\"M17.41 7.96l-1.37-1.37c-.4-.4-.92-.59-1.43-.59-.52 0-1.04.2-1.43.59L10.3 9.45l-7.72 7.72c-.78.78-.78 2.05 0 2.83L4 21.41c.39.39.9.59 1.41.59.51 0 1.02-.2 1.41-.59l7.78-7.78 2.81-2.81c.8-.78.8-2.07 0-2.86zM5.41 20L4 18.59l7.72-7.72 1.47 1.35L5.41 20z\"/>\n",
              "  </svg>\n",
              "      </button>\n",
              "      \n",
              "  <style>\n",
              "    .colab-df-container {\n",
              "      display:flex;\n",
              "      flex-wrap:wrap;\n",
              "      gap: 12px;\n",
              "    }\n",
              "\n",
              "    .colab-df-convert {\n",
              "      background-color: #E8F0FE;\n",
              "      border: none;\n",
              "      border-radius: 50%;\n",
              "      cursor: pointer;\n",
              "      display: none;\n",
              "      fill: #1967D2;\n",
              "      height: 32px;\n",
              "      padding: 0 0 0 0;\n",
              "      width: 32px;\n",
              "    }\n",
              "\n",
              "    .colab-df-convert:hover {\n",
              "      background-color: #E2EBFA;\n",
              "      box-shadow: 0px 1px 2px rgba(60, 64, 67, 0.3), 0px 1px 3px 1px rgba(60, 64, 67, 0.15);\n",
              "      fill: #174EA6;\n",
              "    }\n",
              "\n",
              "    [theme=dark] .colab-df-convert {\n",
              "      background-color: #3B4455;\n",
              "      fill: #D2E3FC;\n",
              "    }\n",
              "\n",
              "    [theme=dark] .colab-df-convert:hover {\n",
              "      background-color: #434B5C;\n",
              "      box-shadow: 0px 1px 3px 1px rgba(0, 0, 0, 0.15);\n",
              "      filter: drop-shadow(0px 1px 2px rgba(0, 0, 0, 0.3));\n",
              "      fill: #FFFFFF;\n",
              "    }\n",
              "  </style>\n",
              "\n",
              "      <script>\n",
              "        const buttonEl =\n",
              "          document.querySelector('#df-dc44dc44-286d-47f0-ab63-3929ff8250bf button.colab-df-convert');\n",
              "        buttonEl.style.display =\n",
              "          google.colab.kernel.accessAllowed ? 'block' : 'none';\n",
              "\n",
              "        async function convertToInteractive(key) {\n",
              "          const element = document.querySelector('#df-dc44dc44-286d-47f0-ab63-3929ff8250bf');\n",
              "          const dataTable =\n",
              "            await google.colab.kernel.invokeFunction('convertToInteractive',\n",
              "                                                     [key], {});\n",
              "          if (!dataTable) return;\n",
              "\n",
              "          const docLinkHtml = 'Like what you see? Visit the ' +\n",
              "            '<a target=\"_blank\" href=https://colab.research.google.com/notebooks/data_table.ipynb>data table notebook</a>'\n",
              "            + ' to learn more about interactive tables.';\n",
              "          element.innerHTML = '';\n",
              "          dataTable['output_type'] = 'display_data';\n",
              "          await google.colab.output.renderOutput(dataTable, element);\n",
              "          const docLink = document.createElement('div');\n",
              "          docLink.innerHTML = docLinkHtml;\n",
              "          element.appendChild(docLink);\n",
              "        }\n",
              "      </script>\n",
              "    </div>\n",
              "  </div>\n",
              "  "
            ]
          },
          "metadata": {},
          "execution_count": 88
        }
      ]
    },
    {
      "cell_type": "code",
      "source": [
        "#Terdapat beberapa tweet yang ditulis dalam bahasa lain dan diduga tidak ditulis oleh WNI\n",
        "#Dilakukan deteksi bahasa yang dipakai:\n",
        "language=[]\n",
        "for i in range (len(tweet_list)):\n",
        "  tweet = tweet_list.iloc[i]['cleaned_tweet']\n",
        "  detected_language=translator.detect(tweet).lang\n",
        "  if isinstance(detected_language, list)==True:\n",
        "    detected_language=tuple(detected_language)\n",
        "  language.append(detected_language)\n",
        "tweet_list['language']=language"
      ],
      "metadata": {
        "id": "1OUiRjRqq_85"
      },
      "execution_count": 89,
      "outputs": []
    },
    {
      "cell_type": "code",
      "source": [
        "#Tweet dengan bahasa selain id, en, (id,ms), (ms,id), dan (jw,id) akan dihapus dari dataframe \n",
        "tweet_list.language.value_counts()"
      ],
      "metadata": {
        "colab": {
          "base_uri": "https://localhost:8080/"
        },
        "id": "oMynRmAbsqdL",
        "outputId": "cadd46f3-e539-4ee8-b269-9d9dd45bc51e"
      },
      "execution_count": 90,
      "outputs": [
        {
          "output_type": "execute_result",
          "data": {
            "text/plain": [
              "id          1117\n",
              "en           179\n",
              "ms           111\n",
              "(id, ms)      64\n",
              "hi            55\n",
              "(ms, id)      41\n",
              "es            21\n",
              "jw            18\n",
              "ar            13\n",
              "su            11\n",
              "ja             7\n",
              "tl             6\n",
              "gu             5\n",
              "sw             5\n",
              "tr             3\n",
              "rw             3\n",
              "bn             2\n",
              "mi             2\n",
              "it             2\n",
              "ha             2\n",
              "so             2\n",
              "te             2\n",
              "(jw, id)       2\n",
              "de             2\n",
              "zh-CN          2\n",
              "(ms, su)       2\n",
              "ml             2\n",
              "ig             2\n",
              "zu             2\n",
              "(mi, so)       1\n",
              "ca             1\n",
              "qu             1\n",
              "ro             1\n",
              "cs             1\n",
              "sk             1\n",
              "fy             1\n",
              "et             1\n",
              "(pt, es)       1\n",
              "(id, su)       1\n",
              "(ms, en)       1\n",
              "pt             1\n",
              "bg             1\n",
              "haw            1\n",
              "(tl, en)       1\n",
              "(ja, ha)       1\n",
              "(gu, hi)       1\n",
              "da             1\n",
              "(la, id)       1\n",
              "uz             1\n",
              "(id, tr)       1\n",
              "la             1\n",
              "(su, jw)       1\n",
              "bm             1\n",
              "(hi, bn)       1\n",
              "el             1\n",
              "Name: language, dtype: int64"
            ]
          },
          "metadata": {},
          "execution_count": 90
        }
      ]
    },
    {
      "cell_type": "code",
      "source": [
        "lang=['id', 'en', ('id','ms'), ('ms','id'), ('jw','id')]\n",
        "tweet_list = tweet_list[tweet_list['language'].isin(lang)]"
      ],
      "metadata": {
        "id": "kWfQgIG7Dcjv"
      },
      "execution_count": 91,
      "outputs": []
    },
    {
      "cell_type": "code",
      "source": [
        "tweet_list.head(10)"
      ],
      "metadata": {
        "colab": {
          "base_uri": "https://localhost:8080/",
          "height": 363
        },
        "id": "4biwc9Z5DIKs",
        "outputId": "a7cf390c-8670-40c1-c5b5-4ac15b73c040"
      },
      "execution_count": 92,
      "outputs": [
        {
          "output_type": "execute_result",
          "data": {
            "text/plain": [
              "                                            full_text  \\\n",
              "0                                 @convomf Knpa LGBT🗿   \n",
              "2   Beredar video empat orang laki-laki sedang ber...   \n",
              "3   \"mbak minta tolong pegang perut saya ya biar d...   \n",
              "4   Lah kan lagu tuh masuknya seni, gue bukan pro ...   \n",
              "5                        lgbt https://t.co/Y2K3nHUu7U   \n",
              "6   RT @Meilansyahriza: Sudah menjadi Rahasia umum...   \n",
              "8                                     \"Homo-Lehrsaal\"   \n",
              "9                Lagi dengerin lagu LGBT katanya hehe   \n",
              "10                      @TretanMuslim Mampus kau homo   \n",
              "11  RT @rendemour: TAEKOOK AU\\n\\n— KAZE 風 —\\n\\nSeo...   \n",
              "\n",
              "                                        cleaned_tweet  language  \n",
              "0                                         kenapa lgbt  (ms, id)  \n",
              "2   beredar video empat orang lakilaki sedang berp...        id  \n",
              "3   mbak minta tolong pegang perut saya iya biar d...        id  \n",
              "4   lah akan lagu itu masuknya seni saya bukan pro...        id  \n",
              "5                                                lgbt        en  \n",
              "6   rt sudah menjadi rahasia umum siapa yang ada d...        id  \n",
              "8                                        homolehrsaal        en  \n",
              "9                 lagi dengarkan lagu lgbt katanya he  (ms, id)  \n",
              "10                                   mampus kamu homo        id  \n",
              "11  rt taekook angkatan udara kaze seorang ambisiu...        id  "
            ],
            "text/html": [
              "\n",
              "  <div id=\"df-0c494fc4-8c6f-4f14-8cf0-d1168688c22a\">\n",
              "    <div class=\"colab-df-container\">\n",
              "      <div>\n",
              "<style scoped>\n",
              "    .dataframe tbody tr th:only-of-type {\n",
              "        vertical-align: middle;\n",
              "    }\n",
              "\n",
              "    .dataframe tbody tr th {\n",
              "        vertical-align: top;\n",
              "    }\n",
              "\n",
              "    .dataframe thead th {\n",
              "        text-align: right;\n",
              "    }\n",
              "</style>\n",
              "<table border=\"1\" class=\"dataframe\">\n",
              "  <thead>\n",
              "    <tr style=\"text-align: right;\">\n",
              "      <th></th>\n",
              "      <th>full_text</th>\n",
              "      <th>cleaned_tweet</th>\n",
              "      <th>language</th>\n",
              "    </tr>\n",
              "  </thead>\n",
              "  <tbody>\n",
              "    <tr>\n",
              "      <th>0</th>\n",
              "      <td>@convomf Knpa LGBT🗿</td>\n",
              "      <td>kenapa lgbt</td>\n",
              "      <td>(ms, id)</td>\n",
              "    </tr>\n",
              "    <tr>\n",
              "      <th>2</th>\n",
              "      <td>Beredar video empat orang laki-laki sedang ber...</td>\n",
              "      <td>beredar video empat orang lakilaki sedang berp...</td>\n",
              "      <td>id</td>\n",
              "    </tr>\n",
              "    <tr>\n",
              "      <th>3</th>\n",
              "      <td>\"mbak minta tolong pegang perut saya ya biar d...</td>\n",
              "      <td>mbak minta tolong pegang perut saya iya biar d...</td>\n",
              "      <td>id</td>\n",
              "    </tr>\n",
              "    <tr>\n",
              "      <th>4</th>\n",
              "      <td>Lah kan lagu tuh masuknya seni, gue bukan pro ...</td>\n",
              "      <td>lah akan lagu itu masuknya seni saya bukan pro...</td>\n",
              "      <td>id</td>\n",
              "    </tr>\n",
              "    <tr>\n",
              "      <th>5</th>\n",
              "      <td>lgbt https://t.co/Y2K3nHUu7U</td>\n",
              "      <td>lgbt</td>\n",
              "      <td>en</td>\n",
              "    </tr>\n",
              "    <tr>\n",
              "      <th>6</th>\n",
              "      <td>RT @Meilansyahriza: Sudah menjadi Rahasia umum...</td>\n",
              "      <td>rt sudah menjadi rahasia umum siapa yang ada d...</td>\n",
              "      <td>id</td>\n",
              "    </tr>\n",
              "    <tr>\n",
              "      <th>8</th>\n",
              "      <td>\"Homo-Lehrsaal\"</td>\n",
              "      <td>homolehrsaal</td>\n",
              "      <td>en</td>\n",
              "    </tr>\n",
              "    <tr>\n",
              "      <th>9</th>\n",
              "      <td>Lagi dengerin lagu LGBT katanya hehe</td>\n",
              "      <td>lagi dengarkan lagu lgbt katanya he</td>\n",
              "      <td>(ms, id)</td>\n",
              "    </tr>\n",
              "    <tr>\n",
              "      <th>10</th>\n",
              "      <td>@TretanMuslim Mampus kau homo</td>\n",
              "      <td>mampus kamu homo</td>\n",
              "      <td>id</td>\n",
              "    </tr>\n",
              "    <tr>\n",
              "      <th>11</th>\n",
              "      <td>RT @rendemour: TAEKOOK AU\\n\\n— KAZE 風 —\\n\\nSeo...</td>\n",
              "      <td>rt taekook angkatan udara kaze seorang ambisiu...</td>\n",
              "      <td>id</td>\n",
              "    </tr>\n",
              "  </tbody>\n",
              "</table>\n",
              "</div>\n",
              "      <button class=\"colab-df-convert\" onclick=\"convertToInteractive('df-0c494fc4-8c6f-4f14-8cf0-d1168688c22a')\"\n",
              "              title=\"Convert this dataframe to an interactive table.\"\n",
              "              style=\"display:none;\">\n",
              "        \n",
              "  <svg xmlns=\"http://www.w3.org/2000/svg\" height=\"24px\"viewBox=\"0 0 24 24\"\n",
              "       width=\"24px\">\n",
              "    <path d=\"M0 0h24v24H0V0z\" fill=\"none\"/>\n",
              "    <path d=\"M18.56 5.44l.94 2.06.94-2.06 2.06-.94-2.06-.94-.94-2.06-.94 2.06-2.06.94zm-11 1L8.5 8.5l.94-2.06 2.06-.94-2.06-.94L8.5 2.5l-.94 2.06-2.06.94zm10 10l.94 2.06.94-2.06 2.06-.94-2.06-.94-.94-2.06-.94 2.06-2.06.94z\"/><path d=\"M17.41 7.96l-1.37-1.37c-.4-.4-.92-.59-1.43-.59-.52 0-1.04.2-1.43.59L10.3 9.45l-7.72 7.72c-.78.78-.78 2.05 0 2.83L4 21.41c.39.39.9.59 1.41.59.51 0 1.02-.2 1.41-.59l7.78-7.78 2.81-2.81c.8-.78.8-2.07 0-2.86zM5.41 20L4 18.59l7.72-7.72 1.47 1.35L5.41 20z\"/>\n",
              "  </svg>\n",
              "      </button>\n",
              "      \n",
              "  <style>\n",
              "    .colab-df-container {\n",
              "      display:flex;\n",
              "      flex-wrap:wrap;\n",
              "      gap: 12px;\n",
              "    }\n",
              "\n",
              "    .colab-df-convert {\n",
              "      background-color: #E8F0FE;\n",
              "      border: none;\n",
              "      border-radius: 50%;\n",
              "      cursor: pointer;\n",
              "      display: none;\n",
              "      fill: #1967D2;\n",
              "      height: 32px;\n",
              "      padding: 0 0 0 0;\n",
              "      width: 32px;\n",
              "    }\n",
              "\n",
              "    .colab-df-convert:hover {\n",
              "      background-color: #E2EBFA;\n",
              "      box-shadow: 0px 1px 2px rgba(60, 64, 67, 0.3), 0px 1px 3px 1px rgba(60, 64, 67, 0.15);\n",
              "      fill: #174EA6;\n",
              "    }\n",
              "\n",
              "    [theme=dark] .colab-df-convert {\n",
              "      background-color: #3B4455;\n",
              "      fill: #D2E3FC;\n",
              "    }\n",
              "\n",
              "    [theme=dark] .colab-df-convert:hover {\n",
              "      background-color: #434B5C;\n",
              "      box-shadow: 0px 1px 3px 1px rgba(0, 0, 0, 0.15);\n",
              "      filter: drop-shadow(0px 1px 2px rgba(0, 0, 0, 0.3));\n",
              "      fill: #FFFFFF;\n",
              "    }\n",
              "  </style>\n",
              "\n",
              "      <script>\n",
              "        const buttonEl =\n",
              "          document.querySelector('#df-0c494fc4-8c6f-4f14-8cf0-d1168688c22a button.colab-df-convert');\n",
              "        buttonEl.style.display =\n",
              "          google.colab.kernel.accessAllowed ? 'block' : 'none';\n",
              "\n",
              "        async function convertToInteractive(key) {\n",
              "          const element = document.querySelector('#df-0c494fc4-8c6f-4f14-8cf0-d1168688c22a');\n",
              "          const dataTable =\n",
              "            await google.colab.kernel.invokeFunction('convertToInteractive',\n",
              "                                                     [key], {});\n",
              "          if (!dataTable) return;\n",
              "\n",
              "          const docLinkHtml = 'Like what you see? Visit the ' +\n",
              "            '<a target=\"_blank\" href=https://colab.research.google.com/notebooks/data_table.ipynb>data table notebook</a>'\n",
              "            + ' to learn more about interactive tables.';\n",
              "          element.innerHTML = '';\n",
              "          dataTable['output_type'] = 'display_data';\n",
              "          await google.colab.output.renderOutput(dataTable, element);\n",
              "          const docLink = document.createElement('div');\n",
              "          docLink.innerHTML = docLinkHtml;\n",
              "          element.appendChild(docLink);\n",
              "        }\n",
              "      </script>\n",
              "    </div>\n",
              "  </div>\n",
              "  "
            ]
          },
          "metadata": {},
          "execution_count": 92
        }
      ]
    },
    {
      "cell_type": "markdown",
      "source": [
        "**Stopwords sengaja tidak dihilangkan agar tidak mengubah makna saat melakukan sentiment analysis menggunakan Google Translate dan TextBlob**"
      ],
      "metadata": {
        "id": "1R_BzQa6cNM5"
      }
    },
    {
      "cell_type": "markdown",
      "source": [
        "##**Sentiment Analysis**"
      ],
      "metadata": {
        "id": "Ga4mc33CoOmF"
      }
    },
    {
      "cell_type": "markdown",
      "source": [
        "<p>Sentiment menghasilkan Tuple berpasangan (<strong>Polaritas</strong>, <strong>Subjectivitas</strong>).&nbsp;</p>\n",
        "\n",
        "<p>Polaritas memiliki nilai [-1, 1] ==&gt; negative~positive Sentimen</p>\n",
        "\n",
        "<p>Subjectivity memiliki nilai antara 0 sampai 1, dimana 0 paling objective dan 1 paling subjective.</p>"
      ],
      "metadata": {
        "id": "zd0X7e6ecneQ"
      }
    },
    {
      "cell_type": "markdown",
      "source": [
        "##**Naive Bayes Classifier**"
      ],
      "metadata": {
        "id": "iG5MeqJFe6Gg"
      }
    },
    {
      "cell_type": "code",
      "execution_count": 114,
      "metadata": {
        "ExecuteTime": {
          "end_time": "2022-05-29T11:59:56.152562Z",
          "start_time": "2022-05-29T11:59:56.136502Z"
        },
        "id": "w_JSUhs1Uw7j"
      },
      "outputs": [],
      "source": [
        "import nltk.classify.util\n",
        "from nltk.classify import NaiveBayesClassifier\n",
        " \n",
        "def word_feats(words):\n",
        "    return dict([(word, True) for word in words])\n",
        "\n",
        "def bentukClassifier(wPos, wNeg): # ,Nt\n",
        "    positive_features = [(word_feats(pos), 'pos') for pos in wPos]\n",
        "    negative_features = [(word_feats(neg), 'neg') for neg in wNeg]\n",
        "    #neutral_features = [(word_feats(neu), 'neu') for neu in Nt]\n",
        "    train_set = negative_features + positive_features# + neutral_features\n",
        "    return NaiveBayesClassifier.train(train_set)\n",
        "\n",
        "def prediksiSentiment(kalimat, wPos, wNeg, negasi):\n",
        "    pos, neg = 0.0, 0.0\n",
        "    posWords, negWords = [], []\n",
        "    K = tau.cleanText(kalimat)\n",
        "    for w in wPos:\n",
        "        if w in K:\n",
        "            for ww in negasi:\n",
        "                kebalikan = False\n",
        "                inverted = ww+' '+w\n",
        "                if inverted in K:\n",
        "                    negWords.append(inverted)\n",
        "                    kebalikan = True\n",
        "                    break\n",
        "            if not kebalikan:\n",
        "                posWords.append(w)\n",
        "    for w in wNeg:\n",
        "        if w in K:\n",
        "            for ww in negasi:\n",
        "                kebalikan = False\n",
        "                inverted = ww+' '+w\n",
        "                if inverted in K:\n",
        "                    posWords.append(inverted)\n",
        "                    kebalikan = True\n",
        "                    break\n",
        "            if not kebalikan:\n",
        "                negWords.append(w)\n",
        "    \n",
        "    nPos, nNeg = len(posWords), len(negWords)\n",
        "    sum_ = nPos + nNeg\n",
        "    if sum_ == 0 or nPos==nNeg:\n",
        "        return 'netral', 0.0\n",
        "    else:\n",
        "        nPos, nNeg = nPos/sum_, nNeg/sum_\n",
        "        if nPos>nNeg and nPos>0.01:\n",
        "            return 'positif', nPos\n",
        "        elif nNeg>nPos and nNeg<-0.01:\n",
        "            return 'negatif', nNeg\n",
        "        else:\n",
        "            return 'netral', (nPos + nNeg)/2"
      ]
    },
    {
      "cell_type": "code",
      "source": [
        "#Buat daftar kata positif dalam Bahasa Indonesia\n",
        "df=open('/content/data/kata_positif.txt',\"r\",encoding=\"utf-8\", errors='replace')\n",
        "wPos = df.readlines(); df.close()\n",
        "wPos = [k.strip() for k in wPos]\n",
        "wPos = tuple(k for k in wPos)"
      ],
      "metadata": {
        "id": "RgdGO-oOl55w"
      },
      "execution_count": 115,
      "outputs": []
    },
    {
      "cell_type": "code",
      "source": [
        "#Buat daftar kata negatif dalam Bahasa Indonesia\n",
        "df=open('/content/data/kata_negatif.txt',\"r\",encoding=\"utf-8\", errors='replace')\n",
        "wNeg = df.readlines(); df.close()\n",
        "wNeg = [k.strip() for k in wPos]\n",
        "wNeg = tuple(k for k in wPos)"
      ],
      "metadata": {
        "id": "fGPGxEk9tZsY"
      },
      "execution_count": 116,
      "outputs": []
    },
    {
      "cell_type": "code",
      "source": [
        "wordS = (wPos, wNeg)\n",
        "negasi = ['ga', 'tidak','gak','g','tdk','tidk','tdak','anti']"
      ],
      "metadata": {
        "id": "iUYE72-ktfNi"
      },
      "execution_count": 117,
      "outputs": []
    },
    {
      "cell_type": "code",
      "execution_count": 118,
      "metadata": {
        "ExecuteTime": {
          "end_time": "2022-05-29T11:59:56.184084Z",
          "start_time": "2022-05-29T11:59:56.168220Z"
        },
        "id": "vH8LYldlUw7k"
      },
      "outputs": [],
      "source": [
        "sentimen=[]\n",
        "score=[]\n",
        "for i in range (len(tweet_list)):\n",
        "  sentence = tweet_list.iloc[i]['cleaned_tweet']\n",
        "  (sen, val)=prediksiSentiment(sentence, wPos, wNeg, negasi)\n",
        "  sentimen.append(sen)\n",
        "  score.append(val)\n",
        "tweet_list['sentimen_NBC']=sentimen\n",
        "tweet_list['score_NBC']=score"
      ]
    },
    {
      "cell_type": "code",
      "source": [
        "tweet_list[[\"cleaned_tweet\", \"sentimen_NBC\",\"score_NBC\"]].head(10)"
      ],
      "metadata": {
        "colab": {
          "base_uri": "https://localhost:8080/",
          "height": 363
        },
        "id": "KYINfpIC944Z",
        "outputId": "4a145a73-f943-4cf2-ee6c-04bf1ceb206b"
      },
      "execution_count": 119,
      "outputs": [
        {
          "output_type": "execute_result",
          "data": {
            "text/plain": [
              "                                        cleaned_tweet sentimen_NBC  score_NBC\n",
              "0                                                lgbt       netral        0.0\n",
              "2   beredar video orang lakilaki berpangkuan pasan...       netral        0.0\n",
              "3   mbak tolong pegang perut iya biar debay nya ca...       netral        0.0\n",
              "4   lagu masuknya seni profesional lgbt menyukai s...       netral        0.0\n",
              "5                                                lgbt       netral        0.0\n",
              "6                            rahasia lgbt vaksinisasi       netral        0.0\n",
              "8                                        homolehrsaal       netral        0.0\n",
              "9                                 dengarkan lagu lgbt       netral        0.0\n",
              "10                                        mampus homo       netral        0.0\n",
              "11  taekook angkatan udara kaze ambisius dhia noah...       netral        0.0"
            ],
            "text/html": [
              "\n",
              "  <div id=\"df-1b2ca17c-3695-42a5-8f3f-8d773d90b567\">\n",
              "    <div class=\"colab-df-container\">\n",
              "      <div>\n",
              "<style scoped>\n",
              "    .dataframe tbody tr th:only-of-type {\n",
              "        vertical-align: middle;\n",
              "    }\n",
              "\n",
              "    .dataframe tbody tr th {\n",
              "        vertical-align: top;\n",
              "    }\n",
              "\n",
              "    .dataframe thead th {\n",
              "        text-align: right;\n",
              "    }\n",
              "</style>\n",
              "<table border=\"1\" class=\"dataframe\">\n",
              "  <thead>\n",
              "    <tr style=\"text-align: right;\">\n",
              "      <th></th>\n",
              "      <th>cleaned_tweet</th>\n",
              "      <th>sentimen_NBC</th>\n",
              "      <th>score_NBC</th>\n",
              "    </tr>\n",
              "  </thead>\n",
              "  <tbody>\n",
              "    <tr>\n",
              "      <th>0</th>\n",
              "      <td>lgbt</td>\n",
              "      <td>netral</td>\n",
              "      <td>0.0</td>\n",
              "    </tr>\n",
              "    <tr>\n",
              "      <th>2</th>\n",
              "      <td>beredar video orang lakilaki berpangkuan pasan...</td>\n",
              "      <td>netral</td>\n",
              "      <td>0.0</td>\n",
              "    </tr>\n",
              "    <tr>\n",
              "      <th>3</th>\n",
              "      <td>mbak tolong pegang perut iya biar debay nya ca...</td>\n",
              "      <td>netral</td>\n",
              "      <td>0.0</td>\n",
              "    </tr>\n",
              "    <tr>\n",
              "      <th>4</th>\n",
              "      <td>lagu masuknya seni profesional lgbt menyukai s...</td>\n",
              "      <td>netral</td>\n",
              "      <td>0.0</td>\n",
              "    </tr>\n",
              "    <tr>\n",
              "      <th>5</th>\n",
              "      <td>lgbt</td>\n",
              "      <td>netral</td>\n",
              "      <td>0.0</td>\n",
              "    </tr>\n",
              "    <tr>\n",
              "      <th>6</th>\n",
              "      <td>rahasia lgbt vaksinisasi</td>\n",
              "      <td>netral</td>\n",
              "      <td>0.0</td>\n",
              "    </tr>\n",
              "    <tr>\n",
              "      <th>8</th>\n",
              "      <td>homolehrsaal</td>\n",
              "      <td>netral</td>\n",
              "      <td>0.0</td>\n",
              "    </tr>\n",
              "    <tr>\n",
              "      <th>9</th>\n",
              "      <td>dengarkan lagu lgbt</td>\n",
              "      <td>netral</td>\n",
              "      <td>0.0</td>\n",
              "    </tr>\n",
              "    <tr>\n",
              "      <th>10</th>\n",
              "      <td>mampus homo</td>\n",
              "      <td>netral</td>\n",
              "      <td>0.0</td>\n",
              "    </tr>\n",
              "    <tr>\n",
              "      <th>11</th>\n",
              "      <td>taekook angkatan udara kaze ambisius dhia noah...</td>\n",
              "      <td>netral</td>\n",
              "      <td>0.0</td>\n",
              "    </tr>\n",
              "  </tbody>\n",
              "</table>\n",
              "</div>\n",
              "      <button class=\"colab-df-convert\" onclick=\"convertToInteractive('df-1b2ca17c-3695-42a5-8f3f-8d773d90b567')\"\n",
              "              title=\"Convert this dataframe to an interactive table.\"\n",
              "              style=\"display:none;\">\n",
              "        \n",
              "  <svg xmlns=\"http://www.w3.org/2000/svg\" height=\"24px\"viewBox=\"0 0 24 24\"\n",
              "       width=\"24px\">\n",
              "    <path d=\"M0 0h24v24H0V0z\" fill=\"none\"/>\n",
              "    <path d=\"M18.56 5.44l.94 2.06.94-2.06 2.06-.94-2.06-.94-.94-2.06-.94 2.06-2.06.94zm-11 1L8.5 8.5l.94-2.06 2.06-.94-2.06-.94L8.5 2.5l-.94 2.06-2.06.94zm10 10l.94 2.06.94-2.06 2.06-.94-2.06-.94-.94-2.06-.94 2.06-2.06.94z\"/><path d=\"M17.41 7.96l-1.37-1.37c-.4-.4-.92-.59-1.43-.59-.52 0-1.04.2-1.43.59L10.3 9.45l-7.72 7.72c-.78.78-.78 2.05 0 2.83L4 21.41c.39.39.9.59 1.41.59.51 0 1.02-.2 1.41-.59l7.78-7.78 2.81-2.81c.8-.78.8-2.07 0-2.86zM5.41 20L4 18.59l7.72-7.72 1.47 1.35L5.41 20z\"/>\n",
              "  </svg>\n",
              "      </button>\n",
              "      \n",
              "  <style>\n",
              "    .colab-df-container {\n",
              "      display:flex;\n",
              "      flex-wrap:wrap;\n",
              "      gap: 12px;\n",
              "    }\n",
              "\n",
              "    .colab-df-convert {\n",
              "      background-color: #E8F0FE;\n",
              "      border: none;\n",
              "      border-radius: 50%;\n",
              "      cursor: pointer;\n",
              "      display: none;\n",
              "      fill: #1967D2;\n",
              "      height: 32px;\n",
              "      padding: 0 0 0 0;\n",
              "      width: 32px;\n",
              "    }\n",
              "\n",
              "    .colab-df-convert:hover {\n",
              "      background-color: #E2EBFA;\n",
              "      box-shadow: 0px 1px 2px rgba(60, 64, 67, 0.3), 0px 1px 3px 1px rgba(60, 64, 67, 0.15);\n",
              "      fill: #174EA6;\n",
              "    }\n",
              "\n",
              "    [theme=dark] .colab-df-convert {\n",
              "      background-color: #3B4455;\n",
              "      fill: #D2E3FC;\n",
              "    }\n",
              "\n",
              "    [theme=dark] .colab-df-convert:hover {\n",
              "      background-color: #434B5C;\n",
              "      box-shadow: 0px 1px 3px 1px rgba(0, 0, 0, 0.15);\n",
              "      filter: drop-shadow(0px 1px 2px rgba(0, 0, 0, 0.3));\n",
              "      fill: #FFFFFF;\n",
              "    }\n",
              "  </style>\n",
              "\n",
              "      <script>\n",
              "        const buttonEl =\n",
              "          document.querySelector('#df-1b2ca17c-3695-42a5-8f3f-8d773d90b567 button.colab-df-convert');\n",
              "        buttonEl.style.display =\n",
              "          google.colab.kernel.accessAllowed ? 'block' : 'none';\n",
              "\n",
              "        async function convertToInteractive(key) {\n",
              "          const element = document.querySelector('#df-1b2ca17c-3695-42a5-8f3f-8d773d90b567');\n",
              "          const dataTable =\n",
              "            await google.colab.kernel.invokeFunction('convertToInteractive',\n",
              "                                                     [key], {});\n",
              "          if (!dataTable) return;\n",
              "\n",
              "          const docLinkHtml = 'Like what you see? Visit the ' +\n",
              "            '<a target=\"_blank\" href=https://colab.research.google.com/notebooks/data_table.ipynb>data table notebook</a>'\n",
              "            + ' to learn more about interactive tables.';\n",
              "          element.innerHTML = '';\n",
              "          dataTable['output_type'] = 'display_data';\n",
              "          await google.colab.output.renderOutput(dataTable, element);\n",
              "          const docLink = document.createElement('div');\n",
              "          docLink.innerHTML = docLinkHtml;\n",
              "          element.appendChild(docLink);\n",
              "        }\n",
              "      </script>\n",
              "    </div>\n",
              "  </div>\n",
              "  "
            ]
          },
          "metadata": {},
          "execution_count": 119
        }
      ]
    },
    {
      "cell_type": "code",
      "source": [
        "tweet_list['sentimen_NBC'].value_counts()"
      ],
      "metadata": {
        "colab": {
          "base_uri": "https://localhost:8080/"
        },
        "id": "kQCxxVK4GSsg",
        "outputId": "679fff06-6afb-4b83-aba7-846070fed21a"
      },
      "execution_count": 120,
      "outputs": [
        {
          "output_type": "execute_result",
          "data": {
            "text/plain": [
              "netral    1403\n",
              "Name: sentimen_NBC, dtype: int64"
            ]
          },
          "metadata": {},
          "execution_count": 120
        }
      ]
    },
    {
      "cell_type": "markdown",
      "source": [
        "Hasil analisis sentimen menggunakan algoritma Naive Bayes dengan daftar kata positif dan negatif kurang memberikan hasil yang mencerminkan sentimen. Hal ini terlihat dari hasil sentimen yang seluruhnya 'netral'. Kasus ini kemungkinan disebabkan daftar kata positif dan negatif yang digunakan terbatas, sehingga mempengaruhi scoring."
      ],
      "metadata": {
        "id": "iha50NU6F282"
      }
    },
    {
      "cell_type": "markdown",
      "source": [
        "##**Google Translate x TextBlob**"
      ],
      "metadata": {
        "id": "NjYtxvZwew3O"
      }
    },
    {
      "cell_type": "code",
      "source": [
        "def SenSubModMood_ID(kalimat):\n",
        "    K = translator.translate(kalimat)\n",
        "    K = TextBlob(K.text)\n",
        "    pol,sub = K.sentiment\n",
        "    if pol>0:\n",
        "        pol='positive'\n",
        "    elif pol<0:\n",
        "        pol='negative'\n",
        "    else:\n",
        "        pol = 'netral'\n",
        "    if sub>0.5:\n",
        "        sub = 'subjektif'\n",
        "    else:\n",
        "        sub = 'objektif'\n",
        "    return pol, sub"
      ],
      "metadata": {
        "id": "mXUyG-MTaESW"
      },
      "execution_count": 93,
      "outputs": []
    },
    {
      "cell_type": "code",
      "source": [
        "polarity=[]\n",
        "subjectivity=[]\n",
        "print(\"Running sentiment process\")\n",
        "for row in tweet_list.itertuples():\n",
        "    tweet = tweet_list.at[row[0], 'cleaned_tweet']\n",
        "    pol, sub=SenSubModMood_ID(tweet)\n",
        "    polarity.append(pol)\n",
        "    subjectivity.append(sub)\n",
        "tweet_list['sentiment']=polarity\n",
        "tweet_list['subjectivity']=subjectivity"
      ],
      "metadata": {
        "colab": {
          "base_uri": "https://localhost:8080/"
        },
        "id": "zx77qINyahNO",
        "outputId": "ee449176-6d2c-4f7c-9eca-5a5ffb7afd09"
      },
      "execution_count": 94,
      "outputs": [
        {
          "output_type": "stream",
          "name": "stdout",
          "text": [
            "Running sentiment process\n"
          ]
        }
      ]
    },
    {
      "cell_type": "code",
      "source": [
        "tweet_list[[\"cleaned_tweet\", \"sentiment\",\"subjectivity\"]].head(10)"
      ],
      "metadata": {
        "colab": {
          "base_uri": "https://localhost:8080/",
          "height": 363
        },
        "id": "ZefFSCW5bPlM",
        "outputId": "ed0e9494-5e39-4fb3-d19b-da8326d3dfba"
      },
      "execution_count": 95,
      "outputs": [
        {
          "output_type": "execute_result",
          "data": {
            "text/plain": [
              "                                        cleaned_tweet sentiment subjectivity\n",
              "0                                         kenapa lgbt    netral     objektif\n",
              "2   beredar video empat orang lakilaki sedang berp...    netral     objektif\n",
              "3   mbak minta tolong pegang perut saya iya biar d...  positive    subjektif\n",
              "4   lah akan lagu itu masuknya seni saya bukan pro...  positive     objektif\n",
              "5                                                lgbt    netral     objektif\n",
              "6   rt sudah menjadi rahasia umum siapa yang ada d...  negative    subjektif\n",
              "8                                        homolehrsaal    netral     objektif\n",
              "9                 lagi dengarkan lagu lgbt katanya he    netral     objektif\n",
              "10                                   mampus kamu homo  positive    subjektif\n",
              "11  rt taekook angkatan udara kaze seorang ambisiu...  positive    subjektif"
            ],
            "text/html": [
              "\n",
              "  <div id=\"df-ff08a9c8-f8fb-4252-bd3c-14e3d2ea280e\">\n",
              "    <div class=\"colab-df-container\">\n",
              "      <div>\n",
              "<style scoped>\n",
              "    .dataframe tbody tr th:only-of-type {\n",
              "        vertical-align: middle;\n",
              "    }\n",
              "\n",
              "    .dataframe tbody tr th {\n",
              "        vertical-align: top;\n",
              "    }\n",
              "\n",
              "    .dataframe thead th {\n",
              "        text-align: right;\n",
              "    }\n",
              "</style>\n",
              "<table border=\"1\" class=\"dataframe\">\n",
              "  <thead>\n",
              "    <tr style=\"text-align: right;\">\n",
              "      <th></th>\n",
              "      <th>cleaned_tweet</th>\n",
              "      <th>sentiment</th>\n",
              "      <th>subjectivity</th>\n",
              "    </tr>\n",
              "  </thead>\n",
              "  <tbody>\n",
              "    <tr>\n",
              "      <th>0</th>\n",
              "      <td>kenapa lgbt</td>\n",
              "      <td>netral</td>\n",
              "      <td>objektif</td>\n",
              "    </tr>\n",
              "    <tr>\n",
              "      <th>2</th>\n",
              "      <td>beredar video empat orang lakilaki sedang berp...</td>\n",
              "      <td>netral</td>\n",
              "      <td>objektif</td>\n",
              "    </tr>\n",
              "    <tr>\n",
              "      <th>3</th>\n",
              "      <td>mbak minta tolong pegang perut saya iya biar d...</td>\n",
              "      <td>positive</td>\n",
              "      <td>subjektif</td>\n",
              "    </tr>\n",
              "    <tr>\n",
              "      <th>4</th>\n",
              "      <td>lah akan lagu itu masuknya seni saya bukan pro...</td>\n",
              "      <td>positive</td>\n",
              "      <td>objektif</td>\n",
              "    </tr>\n",
              "    <tr>\n",
              "      <th>5</th>\n",
              "      <td>lgbt</td>\n",
              "      <td>netral</td>\n",
              "      <td>objektif</td>\n",
              "    </tr>\n",
              "    <tr>\n",
              "      <th>6</th>\n",
              "      <td>rt sudah menjadi rahasia umum siapa yang ada d...</td>\n",
              "      <td>negative</td>\n",
              "      <td>subjektif</td>\n",
              "    </tr>\n",
              "    <tr>\n",
              "      <th>8</th>\n",
              "      <td>homolehrsaal</td>\n",
              "      <td>netral</td>\n",
              "      <td>objektif</td>\n",
              "    </tr>\n",
              "    <tr>\n",
              "      <th>9</th>\n",
              "      <td>lagi dengarkan lagu lgbt katanya he</td>\n",
              "      <td>netral</td>\n",
              "      <td>objektif</td>\n",
              "    </tr>\n",
              "    <tr>\n",
              "      <th>10</th>\n",
              "      <td>mampus kamu homo</td>\n",
              "      <td>positive</td>\n",
              "      <td>subjektif</td>\n",
              "    </tr>\n",
              "    <tr>\n",
              "      <th>11</th>\n",
              "      <td>rt taekook angkatan udara kaze seorang ambisiu...</td>\n",
              "      <td>positive</td>\n",
              "      <td>subjektif</td>\n",
              "    </tr>\n",
              "  </tbody>\n",
              "</table>\n",
              "</div>\n",
              "      <button class=\"colab-df-convert\" onclick=\"convertToInteractive('df-ff08a9c8-f8fb-4252-bd3c-14e3d2ea280e')\"\n",
              "              title=\"Convert this dataframe to an interactive table.\"\n",
              "              style=\"display:none;\">\n",
              "        \n",
              "  <svg xmlns=\"http://www.w3.org/2000/svg\" height=\"24px\"viewBox=\"0 0 24 24\"\n",
              "       width=\"24px\">\n",
              "    <path d=\"M0 0h24v24H0V0z\" fill=\"none\"/>\n",
              "    <path d=\"M18.56 5.44l.94 2.06.94-2.06 2.06-.94-2.06-.94-.94-2.06-.94 2.06-2.06.94zm-11 1L8.5 8.5l.94-2.06 2.06-.94-2.06-.94L8.5 2.5l-.94 2.06-2.06.94zm10 10l.94 2.06.94-2.06 2.06-.94-2.06-.94-.94-2.06-.94 2.06-2.06.94z\"/><path d=\"M17.41 7.96l-1.37-1.37c-.4-.4-.92-.59-1.43-.59-.52 0-1.04.2-1.43.59L10.3 9.45l-7.72 7.72c-.78.78-.78 2.05 0 2.83L4 21.41c.39.39.9.59 1.41.59.51 0 1.02-.2 1.41-.59l7.78-7.78 2.81-2.81c.8-.78.8-2.07 0-2.86zM5.41 20L4 18.59l7.72-7.72 1.47 1.35L5.41 20z\"/>\n",
              "  </svg>\n",
              "      </button>\n",
              "      \n",
              "  <style>\n",
              "    .colab-df-container {\n",
              "      display:flex;\n",
              "      flex-wrap:wrap;\n",
              "      gap: 12px;\n",
              "    }\n",
              "\n",
              "    .colab-df-convert {\n",
              "      background-color: #E8F0FE;\n",
              "      border: none;\n",
              "      border-radius: 50%;\n",
              "      cursor: pointer;\n",
              "      display: none;\n",
              "      fill: #1967D2;\n",
              "      height: 32px;\n",
              "      padding: 0 0 0 0;\n",
              "      width: 32px;\n",
              "    }\n",
              "\n",
              "    .colab-df-convert:hover {\n",
              "      background-color: #E2EBFA;\n",
              "      box-shadow: 0px 1px 2px rgba(60, 64, 67, 0.3), 0px 1px 3px 1px rgba(60, 64, 67, 0.15);\n",
              "      fill: #174EA6;\n",
              "    }\n",
              "\n",
              "    [theme=dark] .colab-df-convert {\n",
              "      background-color: #3B4455;\n",
              "      fill: #D2E3FC;\n",
              "    }\n",
              "\n",
              "    [theme=dark] .colab-df-convert:hover {\n",
              "      background-color: #434B5C;\n",
              "      box-shadow: 0px 1px 3px 1px rgba(0, 0, 0, 0.15);\n",
              "      filter: drop-shadow(0px 1px 2px rgba(0, 0, 0, 0.3));\n",
              "      fill: #FFFFFF;\n",
              "    }\n",
              "  </style>\n",
              "\n",
              "      <script>\n",
              "        const buttonEl =\n",
              "          document.querySelector('#df-ff08a9c8-f8fb-4252-bd3c-14e3d2ea280e button.colab-df-convert');\n",
              "        buttonEl.style.display =\n",
              "          google.colab.kernel.accessAllowed ? 'block' : 'none';\n",
              "\n",
              "        async function convertToInteractive(key) {\n",
              "          const element = document.querySelector('#df-ff08a9c8-f8fb-4252-bd3c-14e3d2ea280e');\n",
              "          const dataTable =\n",
              "            await google.colab.kernel.invokeFunction('convertToInteractive',\n",
              "                                                     [key], {});\n",
              "          if (!dataTable) return;\n",
              "\n",
              "          const docLinkHtml = 'Like what you see? Visit the ' +\n",
              "            '<a target=\"_blank\" href=https://colab.research.google.com/notebooks/data_table.ipynb>data table notebook</a>'\n",
              "            + ' to learn more about interactive tables.';\n",
              "          element.innerHTML = '';\n",
              "          dataTable['output_type'] = 'display_data';\n",
              "          await google.colab.output.renderOutput(dataTable, element);\n",
              "          const docLink = document.createElement('div');\n",
              "          docLink.innerHTML = docLinkHtml;\n",
              "          element.appendChild(docLink);\n",
              "        }\n",
              "      </script>\n",
              "    </div>\n",
              "  </div>\n",
              "  "
            ]
          },
          "metadata": {},
          "execution_count": 95
        }
      ]
    },
    {
      "cell_type": "code",
      "source": [
        "df=pd.crosstab(index=tweet_list['sentiment'],columns=tweet_list['subjectivity'])\n",
        "df"
      ],
      "metadata": {
        "colab": {
          "base_uri": "https://localhost:8080/",
          "height": 175
        },
        "id": "D-Gf6VJq_NPH",
        "outputId": "a6b0c64e-0cba-45b9-fc85-79e2838d70d3"
      },
      "execution_count": 96,
      "outputs": [
        {
          "output_type": "execute_result",
          "data": {
            "text/plain": [
              "subjectivity  objektif  subjektif\n",
              "sentiment                        \n",
              "negative           128        130\n",
              "netral             514         29\n",
              "positive           210        392"
            ],
            "text/html": [
              "\n",
              "  <div id=\"df-24dc389c-5b21-4f6e-8cee-cbc9a6350421\">\n",
              "    <div class=\"colab-df-container\">\n",
              "      <div>\n",
              "<style scoped>\n",
              "    .dataframe tbody tr th:only-of-type {\n",
              "        vertical-align: middle;\n",
              "    }\n",
              "\n",
              "    .dataframe tbody tr th {\n",
              "        vertical-align: top;\n",
              "    }\n",
              "\n",
              "    .dataframe thead th {\n",
              "        text-align: right;\n",
              "    }\n",
              "</style>\n",
              "<table border=\"1\" class=\"dataframe\">\n",
              "  <thead>\n",
              "    <tr style=\"text-align: right;\">\n",
              "      <th>subjectivity</th>\n",
              "      <th>objektif</th>\n",
              "      <th>subjektif</th>\n",
              "    </tr>\n",
              "    <tr>\n",
              "      <th>sentiment</th>\n",
              "      <th></th>\n",
              "      <th></th>\n",
              "    </tr>\n",
              "  </thead>\n",
              "  <tbody>\n",
              "    <tr>\n",
              "      <th>negative</th>\n",
              "      <td>128</td>\n",
              "      <td>130</td>\n",
              "    </tr>\n",
              "    <tr>\n",
              "      <th>netral</th>\n",
              "      <td>514</td>\n",
              "      <td>29</td>\n",
              "    </tr>\n",
              "    <tr>\n",
              "      <th>positive</th>\n",
              "      <td>210</td>\n",
              "      <td>392</td>\n",
              "    </tr>\n",
              "  </tbody>\n",
              "</table>\n",
              "</div>\n",
              "      <button class=\"colab-df-convert\" onclick=\"convertToInteractive('df-24dc389c-5b21-4f6e-8cee-cbc9a6350421')\"\n",
              "              title=\"Convert this dataframe to an interactive table.\"\n",
              "              style=\"display:none;\">\n",
              "        \n",
              "  <svg xmlns=\"http://www.w3.org/2000/svg\" height=\"24px\"viewBox=\"0 0 24 24\"\n",
              "       width=\"24px\">\n",
              "    <path d=\"M0 0h24v24H0V0z\" fill=\"none\"/>\n",
              "    <path d=\"M18.56 5.44l.94 2.06.94-2.06 2.06-.94-2.06-.94-.94-2.06-.94 2.06-2.06.94zm-11 1L8.5 8.5l.94-2.06 2.06-.94-2.06-.94L8.5 2.5l-.94 2.06-2.06.94zm10 10l.94 2.06.94-2.06 2.06-.94-2.06-.94-.94-2.06-.94 2.06-2.06.94z\"/><path d=\"M17.41 7.96l-1.37-1.37c-.4-.4-.92-.59-1.43-.59-.52 0-1.04.2-1.43.59L10.3 9.45l-7.72 7.72c-.78.78-.78 2.05 0 2.83L4 21.41c.39.39.9.59 1.41.59.51 0 1.02-.2 1.41-.59l7.78-7.78 2.81-2.81c.8-.78.8-2.07 0-2.86zM5.41 20L4 18.59l7.72-7.72 1.47 1.35L5.41 20z\"/>\n",
              "  </svg>\n",
              "      </button>\n",
              "      \n",
              "  <style>\n",
              "    .colab-df-container {\n",
              "      display:flex;\n",
              "      flex-wrap:wrap;\n",
              "      gap: 12px;\n",
              "    }\n",
              "\n",
              "    .colab-df-convert {\n",
              "      background-color: #E8F0FE;\n",
              "      border: none;\n",
              "      border-radius: 50%;\n",
              "      cursor: pointer;\n",
              "      display: none;\n",
              "      fill: #1967D2;\n",
              "      height: 32px;\n",
              "      padding: 0 0 0 0;\n",
              "      width: 32px;\n",
              "    }\n",
              "\n",
              "    .colab-df-convert:hover {\n",
              "      background-color: #E2EBFA;\n",
              "      box-shadow: 0px 1px 2px rgba(60, 64, 67, 0.3), 0px 1px 3px 1px rgba(60, 64, 67, 0.15);\n",
              "      fill: #174EA6;\n",
              "    }\n",
              "\n",
              "    [theme=dark] .colab-df-convert {\n",
              "      background-color: #3B4455;\n",
              "      fill: #D2E3FC;\n",
              "    }\n",
              "\n",
              "    [theme=dark] .colab-df-convert:hover {\n",
              "      background-color: #434B5C;\n",
              "      box-shadow: 0px 1px 3px 1px rgba(0, 0, 0, 0.15);\n",
              "      filter: drop-shadow(0px 1px 2px rgba(0, 0, 0, 0.3));\n",
              "      fill: #FFFFFF;\n",
              "    }\n",
              "  </style>\n",
              "\n",
              "      <script>\n",
              "        const buttonEl =\n",
              "          document.querySelector('#df-24dc389c-5b21-4f6e-8cee-cbc9a6350421 button.colab-df-convert');\n",
              "        buttonEl.style.display =\n",
              "          google.colab.kernel.accessAllowed ? 'block' : 'none';\n",
              "\n",
              "        async function convertToInteractive(key) {\n",
              "          const element = document.querySelector('#df-24dc389c-5b21-4f6e-8cee-cbc9a6350421');\n",
              "          const dataTable =\n",
              "            await google.colab.kernel.invokeFunction('convertToInteractive',\n",
              "                                                     [key], {});\n",
              "          if (!dataTable) return;\n",
              "\n",
              "          const docLinkHtml = 'Like what you see? Visit the ' +\n",
              "            '<a target=\"_blank\" href=https://colab.research.google.com/notebooks/data_table.ipynb>data table notebook</a>'\n",
              "            + ' to learn more about interactive tables.';\n",
              "          element.innerHTML = '';\n",
              "          dataTable['output_type'] = 'display_data';\n",
              "          await google.colab.output.renderOutput(dataTable, element);\n",
              "          const docLink = document.createElement('div');\n",
              "          docLink.innerHTML = docLinkHtml;\n",
              "          element.appendChild(docLink);\n",
              "        }\n",
              "      </script>\n",
              "    </div>\n",
              "  </div>\n",
              "  "
            ]
          },
          "metadata": {},
          "execution_count": 96
        }
      ]
    },
    {
      "cell_type": "code",
      "source": [
        "len(tweet_list)"
      ],
      "metadata": {
        "colab": {
          "base_uri": "https://localhost:8080/"
        },
        "id": "bTw70fvUHxP3",
        "outputId": "a9f8568a-32c4-41b8-b7f8-9bfdb64b0a3a"
      },
      "execution_count": 113,
      "outputs": [
        {
          "output_type": "execute_result",
          "data": {
            "text/plain": [
              "1403"
            ]
          },
          "metadata": {},
          "execution_count": 113
        }
      ]
    },
    {
      "cell_type": "markdown",
      "source": [
        "##**Visualisasi**"
      ],
      "metadata": {
        "id": "hHF8H9I4KLYj"
      }
    },
    {
      "cell_type": "code",
      "source": [
        "# Loading Stopwords: Ada beberapa cara\n",
        "from nltk.corpus import stopwords\n",
        "from Sastrawi.StopWordRemover.StopWordRemoverFactory import StopWordRemoverFactory\n",
        "factory = StopWordRemoverFactory()\n",
        "\n",
        "NLTK_StopWords = stopwords.words('english')\n",
        "Sastrawi_StopWords_id = factory.get_stop_words()\n",
        "\n",
        "df=open('data/stopwords_en.txt',\"r\",encoding=\"utf-8\", errors='replace')\n",
        "en_stop = df.readlines()\n",
        "df.close()\n",
        "en_stop = [t.strip().lower() for t in en_stop]\n",
        "\n",
        "df=open('data/stopwords_id.txt',\"r\",encoding=\"utf-8\", errors='replace')\n",
        "id_stop = df.readlines()\n",
        "df.close()\n",
        "id_stop = [t.strip().lower() for t in id_stop]\n",
        "\n",
        "N = 10\n",
        "print(NLTK_StopWords[:N])\n",
        "print(Sastrawi_StopWords_id[:N])\n",
        "print(en_stop[:N])\n",
        "print(id_stop[:N])\n",
        "print(len(Sastrawi_StopWords_id), len(id_stop), len(NLTK_StopWords), len(en_stop))"
      ],
      "metadata": {
        "colab": {
          "base_uri": "https://localhost:8080/"
        },
        "id": "-SNuhCiOqV5e",
        "outputId": "eee1ccb5-d505-4aa5-f5dc-0eedeb857123"
      },
      "execution_count": 97,
      "outputs": [
        {
          "output_type": "stream",
          "name": "stdout",
          "text": [
            "['i', 'me', 'my', 'myself', 'we', 'our', 'ours', 'ourselves', 'you', \"you're\"]\n",
            "['yang', 'untuk', 'pada', 'ke', 'para', 'namun', 'menurut', 'antara', 'dia', 'dua']\n",
            "['&gt', '&lt', '&nbsp', 'a', 'able', 'about', 'above', 'abst', 'accordance', 'according']\n",
            "['ada', 'adalah', 'adanya', 'adapun', 'agak', 'agaknya', 'agar', 'akan', 'akankah', 'akhir']\n",
            "126 758 179 2659\n"
          ]
        }
      ]
    },
    {
      "cell_type": "code",
      "source": [
        "# Tips: selalu rubah list stopwords ke bentuk set, karena di Python jauh lebih cepat untuk cek existence di set ketimbang list\n",
        "NLTK_StopWords = set(NLTK_StopWords)\n",
        "Sastrawi_StopWords_id = set(Sastrawi_StopWords_id)\n",
        "en_stop = set(en_stop)\n",
        "id_stop = set(id_stop)"
      ],
      "metadata": {
        "id": "1kuzYI3iqe3G"
      },
      "execution_count": 98,
      "outputs": []
    },
    {
      "cell_type": "code",
      "source": [
        "# Cara menggunakan stopwords\n",
        "from textblob import TextBlob\n",
        "\n",
        "for i in range(len(tweet_list)):\n",
        "  tweet=tweet_list.iloc[i]['cleaned_tweet']\n",
        "  Tokens = TextBlob(tweet).words # Tokenisasi \n",
        "  T2 = [t for t in Tokens if t not in id_stop] # Sastrawi_StopWords_id Personal_StopWords_en Personal_StopWords_id\n",
        "  T2 = [t for t in T2 if t not in en_stop] # Sastrawi_StopWords_id Personal_StopWords_en Personal_StopWords_id\n",
        "  tweet_list.iloc[i]['cleaned_tweet']=(' '.join(T2))\n",
        "# Catatan: Selalu lakukan Stopword filtering setelah tokenisasi (dan normalisasi)."
      ],
      "metadata": {
        "id": "QTOxSBocqpZl"
      },
      "execution_count": 99,
      "outputs": []
    },
    {
      "cell_type": "code",
      "source": [
        "stemmed=[]\n",
        "# Lemmatizer dengan Sastrawi\n",
        "from Sastrawi.Stemmer.StemmerFactory import StemmerFactory\n",
        "stemmer = StemmerFactory().create_stemmer()\n",
        "\n",
        "for i in range (len(tweet_list)):\n",
        "  tweet = tweet_list.iloc[i]['cleaned_tweet']\n",
        "  stemmed.append(stemmer.stem(tweet))\n",
        "\n",
        "tweet_list['stemmed_tweet']=stemmed\n",
        "\n",
        "# Ada beberapa hal yang berbeda antara Sastrawi dan modul-modul diatas.\n",
        "# Apa sajakah?"
      ],
      "metadata": {
        "id": "7YgkgAmeUMKj"
      },
      "execution_count": 100,
      "outputs": []
    },
    {
      "cell_type": "code",
      "source": [
        "tweet_list[['cleaned_tweet','stemmed_tweet']].head(10)"
      ],
      "metadata": {
        "colab": {
          "base_uri": "https://localhost:8080/",
          "height": 363
        },
        "id": "s2XIYnxNhsGn",
        "outputId": "f33d2a45-e976-49ec-abfa-1de56fe61757"
      },
      "execution_count": 101,
      "outputs": [
        {
          "output_type": "execute_result",
          "data": {
            "text/plain": [
              "                                        cleaned_tweet  \\\n",
              "0                                                lgbt   \n",
              "2   beredar video orang lakilaki berpangkuan pasan...   \n",
              "3   mbak tolong pegang perut iya biar debay nya ca...   \n",
              "4   lagu masuknya seni profesional lgbt menyukai s...   \n",
              "5                                                lgbt   \n",
              "6                            rahasia lgbt vaksinisasi   \n",
              "8                                        homolehrsaal   \n",
              "9                                 dengarkan lagu lgbt   \n",
              "10                                        mampus homo   \n",
              "11  taekook angkatan udara kaze ambisius dhia noah...   \n",
              "\n",
              "                                        stemmed_tweet  \n",
              "0                                                lgbt  \n",
              "2   edar video orang lakilaki pangku pasang masing...  \n",
              "3   mbak tolong pegang perut iya biar debay nya ca...  \n",
              "4   lagu masuk seni profesional lgbt suka seni lgb...  \n",
              "5                                                lgbt  \n",
              "6                                 rahasia lgbt vaksin  \n",
              "8                                        homolehrsaal  \n",
              "9                                    dengar lagu lgbt  \n",
              "10                                        mampus homo  \n",
              "11  taekook angkat udara kaze ambisius dhia noah r...  "
            ],
            "text/html": [
              "\n",
              "  <div id=\"df-37358203-ab09-4fb0-9d2c-c6f5efa78807\">\n",
              "    <div class=\"colab-df-container\">\n",
              "      <div>\n",
              "<style scoped>\n",
              "    .dataframe tbody tr th:only-of-type {\n",
              "        vertical-align: middle;\n",
              "    }\n",
              "\n",
              "    .dataframe tbody tr th {\n",
              "        vertical-align: top;\n",
              "    }\n",
              "\n",
              "    .dataframe thead th {\n",
              "        text-align: right;\n",
              "    }\n",
              "</style>\n",
              "<table border=\"1\" class=\"dataframe\">\n",
              "  <thead>\n",
              "    <tr style=\"text-align: right;\">\n",
              "      <th></th>\n",
              "      <th>cleaned_tweet</th>\n",
              "      <th>stemmed_tweet</th>\n",
              "    </tr>\n",
              "  </thead>\n",
              "  <tbody>\n",
              "    <tr>\n",
              "      <th>0</th>\n",
              "      <td>lgbt</td>\n",
              "      <td>lgbt</td>\n",
              "    </tr>\n",
              "    <tr>\n",
              "      <th>2</th>\n",
              "      <td>beredar video orang lakilaki berpangkuan pasan...</td>\n",
              "      <td>edar video orang lakilaki pangku pasang masing...</td>\n",
              "    </tr>\n",
              "    <tr>\n",
              "      <th>3</th>\n",
              "      <td>mbak tolong pegang perut iya biar debay nya ca...</td>\n",
              "      <td>mbak tolong pegang perut iya biar debay nya ca...</td>\n",
              "    </tr>\n",
              "    <tr>\n",
              "      <th>4</th>\n",
              "      <td>lagu masuknya seni profesional lgbt menyukai s...</td>\n",
              "      <td>lagu masuk seni profesional lgbt suka seni lgb...</td>\n",
              "    </tr>\n",
              "    <tr>\n",
              "      <th>5</th>\n",
              "      <td>lgbt</td>\n",
              "      <td>lgbt</td>\n",
              "    </tr>\n",
              "    <tr>\n",
              "      <th>6</th>\n",
              "      <td>rahasia lgbt vaksinisasi</td>\n",
              "      <td>rahasia lgbt vaksin</td>\n",
              "    </tr>\n",
              "    <tr>\n",
              "      <th>8</th>\n",
              "      <td>homolehrsaal</td>\n",
              "      <td>homolehrsaal</td>\n",
              "    </tr>\n",
              "    <tr>\n",
              "      <th>9</th>\n",
              "      <td>dengarkan lagu lgbt</td>\n",
              "      <td>dengar lagu lgbt</td>\n",
              "    </tr>\n",
              "    <tr>\n",
              "      <th>10</th>\n",
              "      <td>mampus homo</td>\n",
              "      <td>mampus homo</td>\n",
              "    </tr>\n",
              "    <tr>\n",
              "      <th>11</th>\n",
              "      <td>taekook angkatan udara kaze ambisius dhia noah...</td>\n",
              "      <td>taekook angkat udara kaze ambisius dhia noah r...</td>\n",
              "    </tr>\n",
              "  </tbody>\n",
              "</table>\n",
              "</div>\n",
              "      <button class=\"colab-df-convert\" onclick=\"convertToInteractive('df-37358203-ab09-4fb0-9d2c-c6f5efa78807')\"\n",
              "              title=\"Convert this dataframe to an interactive table.\"\n",
              "              style=\"display:none;\">\n",
              "        \n",
              "  <svg xmlns=\"http://www.w3.org/2000/svg\" height=\"24px\"viewBox=\"0 0 24 24\"\n",
              "       width=\"24px\">\n",
              "    <path d=\"M0 0h24v24H0V0z\" fill=\"none\"/>\n",
              "    <path d=\"M18.56 5.44l.94 2.06.94-2.06 2.06-.94-2.06-.94-.94-2.06-.94 2.06-2.06.94zm-11 1L8.5 8.5l.94-2.06 2.06-.94-2.06-.94L8.5 2.5l-.94 2.06-2.06.94zm10 10l.94 2.06.94-2.06 2.06-.94-2.06-.94-.94-2.06-.94 2.06-2.06.94z\"/><path d=\"M17.41 7.96l-1.37-1.37c-.4-.4-.92-.59-1.43-.59-.52 0-1.04.2-1.43.59L10.3 9.45l-7.72 7.72c-.78.78-.78 2.05 0 2.83L4 21.41c.39.39.9.59 1.41.59.51 0 1.02-.2 1.41-.59l7.78-7.78 2.81-2.81c.8-.78.8-2.07 0-2.86zM5.41 20L4 18.59l7.72-7.72 1.47 1.35L5.41 20z\"/>\n",
              "  </svg>\n",
              "      </button>\n",
              "      \n",
              "  <style>\n",
              "    .colab-df-container {\n",
              "      display:flex;\n",
              "      flex-wrap:wrap;\n",
              "      gap: 12px;\n",
              "    }\n",
              "\n",
              "    .colab-df-convert {\n",
              "      background-color: #E8F0FE;\n",
              "      border: none;\n",
              "      border-radius: 50%;\n",
              "      cursor: pointer;\n",
              "      display: none;\n",
              "      fill: #1967D2;\n",
              "      height: 32px;\n",
              "      padding: 0 0 0 0;\n",
              "      width: 32px;\n",
              "    }\n",
              "\n",
              "    .colab-df-convert:hover {\n",
              "      background-color: #E2EBFA;\n",
              "      box-shadow: 0px 1px 2px rgba(60, 64, 67, 0.3), 0px 1px 3px 1px rgba(60, 64, 67, 0.15);\n",
              "      fill: #174EA6;\n",
              "    }\n",
              "\n",
              "    [theme=dark] .colab-df-convert {\n",
              "      background-color: #3B4455;\n",
              "      fill: #D2E3FC;\n",
              "    }\n",
              "\n",
              "    [theme=dark] .colab-df-convert:hover {\n",
              "      background-color: #434B5C;\n",
              "      box-shadow: 0px 1px 3px 1px rgba(0, 0, 0, 0.15);\n",
              "      filter: drop-shadow(0px 1px 2px rgba(0, 0, 0, 0.3));\n",
              "      fill: #FFFFFF;\n",
              "    }\n",
              "  </style>\n",
              "\n",
              "      <script>\n",
              "        const buttonEl =\n",
              "          document.querySelector('#df-37358203-ab09-4fb0-9d2c-c6f5efa78807 button.colab-df-convert');\n",
              "        buttonEl.style.display =\n",
              "          google.colab.kernel.accessAllowed ? 'block' : 'none';\n",
              "\n",
              "        async function convertToInteractive(key) {\n",
              "          const element = document.querySelector('#df-37358203-ab09-4fb0-9d2c-c6f5efa78807');\n",
              "          const dataTable =\n",
              "            await google.colab.kernel.invokeFunction('convertToInteractive',\n",
              "                                                     [key], {});\n",
              "          if (!dataTable) return;\n",
              "\n",
              "          const docLinkHtml = 'Like what you see? Visit the ' +\n",
              "            '<a target=\"_blank\" href=https://colab.research.google.com/notebooks/data_table.ipynb>data table notebook</a>'\n",
              "            + ' to learn more about interactive tables.';\n",
              "          element.innerHTML = '';\n",
              "          dataTable['output_type'] = 'display_data';\n",
              "          await google.colab.output.renderOutput(dataTable, element);\n",
              "          const docLink = document.createElement('div');\n",
              "          docLink.innerHTML = docLinkHtml;\n",
              "          element.appendChild(docLink);\n",
              "        }\n",
              "      </script>\n",
              "    </div>\n",
              "  </div>\n",
              "  "
            ]
          },
          "metadata": {},
          "execution_count": 101
        }
      ]
    },
    {
      "cell_type": "code",
      "source": [
        "tweet_list.to_csv('Preprocessed_Tweets.csv')"
      ],
      "metadata": {
        "id": "fd_Rk1jOxb9F"
      },
      "execution_count": 102,
      "outputs": []
    },
    {
      "cell_type": "code",
      "source": [
        "#Hasil tokenisasi dan stemming yang akan digunakan untuk visualisasi\n",
        "df=pd.DataFrame(tweet_list['stemmed_tweet'])\n",
        "df.to_csv(r'visualisasi_overall.txt', header=None, index=None, sep='\\t', mode='a')"
      ],
      "metadata": {
        "id": "jTqI5pa6KM7E"
      },
      "execution_count": 111,
      "outputs": []
    },
    {
      "cell_type": "code",
      "source": [
        "sen=['positive','negative','netral']\n",
        "for sentimen in sen:\n",
        "  df=tweet_list.loc[tweet_list['sentiment']==sentimen]\n",
        "  df.to_csv(\"visualisasi_\"+sentimen+\".txt\", header=None, index=None, sep='\\t', mode='a')"
      ],
      "metadata": {
        "id": "Ajred2RDGV1Z"
      },
      "execution_count": 112,
      "outputs": []
    }
  ]
}